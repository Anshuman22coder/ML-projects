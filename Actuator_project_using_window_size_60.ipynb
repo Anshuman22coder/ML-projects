{
  "nbformat": 4,
  "nbformat_minor": 0,
  "metadata": {
    "colab": {
      "provenance": [],
      "gpuType": "T4",
      "authorship_tag": "ABX9TyMPz9XYp162+/W8kOx0WwNs",
      "include_colab_link": true
    },
    "kernelspec": {
      "name": "python3",
      "display_name": "Python 3"
    },
    "language_info": {
      "name": "python"
    }
  },
  "cells": [
    {
      "cell_type": "markdown",
      "metadata": {
        "id": "view-in-github",
        "colab_type": "text"
      },
      "source": [
        "<a href=\"https://colab.research.google.com/github/Anshuman22coder/ML-projects/blob/main/Actuator_project_using_window_size_60.ipynb\" target=\"_parent\"><img src=\"https://colab.research.google.com/assets/colab-badge.svg\" alt=\"Open In Colab\"/></a>"
      ]
    },
    {
      "cell_type": "code",
      "source": [
        "import numpy as np\n",
        "import pandas as pd\n",
        "import matplotlib.pyplot as plt"
      ],
      "metadata": {
        "id": "cg62RUdGrP_K"
      },
      "execution_count": 1,
      "outputs": []
    },
    {
      "cell_type": "code",
      "execution_count": 2,
      "metadata": {
        "collapsed": true,
        "id": "25CM7VWWqY30"
      },
      "outputs": [],
      "source": [
        "\n",
        "data=pd.read_csv(\"/content/3p5_1.csv\",index_col=\"0\")\n",
        "data1=pd.read_csv(\"/content/4p0_1.csv\",index_col=\"0\")\n",
        "data2=pd.read_csv(\"/content/4p5_1.csv\",index_col=\"0\")\n",
        "data3=pd.read_csv(\"/content/5p0_1.csv\",index_col=\"0\")\n",
        "data4=pd.read_csv(\"/content/5p5_1.csv\",index_col=\"0\")\n",
        "\n"
      ]
    },
    {
      "source": [
        "#removing all zero-ed rows ..\n",
        "\n",
        "zero_sum_rows=data[data.apply(lambda row:row.sum()==0,axis=1)].index\n",
        "data=data.drop(zero_sum_rows)\n",
        "data.head()\n",
        "data.shape  #(60643, 11)\n",
        "\n"
      ],
      "cell_type": "code",
      "execution_count": 3,
      "outputs": [
        {
          "output_type": "execute_result",
          "data": {
            "text/plain": [
              "(60643, 11)"
            ]
          },
          "metadata": {},
          "execution_count": 3
        }
      ],
      "metadata": {
        "colab": {
          "base_uri": "https://localhost:8080/"
        },
        "collapsed": true,
        "id": "KVpl9_ddrYwT",
        "outputId": "36497b66-5d50-4d4f-aa55-91bb31ce3b5f"
      }
    },
    {
      "cell_type": "code",
      "source": [
        "print(data)"
      ],
      "metadata": {
        "colab": {
          "base_uri": "https://localhost:8080/"
        },
        "id": "4yOmKEi2NNi3",
        "outputId": "eebbf09f-ddb3-471c-8861-ec54be975195"
      },
      "execution_count": 4,
      "outputs": [
        {
          "output_type": "stream",
          "name": "stdout",
          "text": [
            "           0.1    0.2  0.3    0.4  0.5    0.6    0.7    0.8    0.9     0.10  \\\n",
            "0                                                                             \n",
            "2251.06 -0.006  1.007    0 -0.058  0.2  0.000  0.204  3.059  0.036    0.000   \n",
            "2251.07 -0.010  0.699    0 -0.058  0.2 -1.320  0.204  3.055  0.241    0.010   \n",
            "2251.08 -0.004  0.858    0 -0.736  0.2 -2.280  0.204  3.065  0.033    0.020   \n",
            "2251.09 -0.007  0.908    0 -2.164  0.2 -2.660  0.204  3.054  0.242    0.030   \n",
            "2251.10 -0.012  0.838    0 -2.849  0.2 -2.530  0.204  3.052  0.036    0.040   \n",
            "...        ...    ...  ...    ...  ...    ...    ...    ...    ...      ...   \n",
            "2857.44  0.080  1.305    0  3.325  0.0  5.420  0.000  2.777  0.103  606.381   \n",
            "2857.45  0.063  0.977    0  4.298  0.0  6.435  0.000  2.810  0.207  606.391   \n",
            "2857.46  0.063  1.216    0  5.409  0.0  7.366  0.000  2.849  0.100  606.401   \n",
            "2857.47  0.051  0.878    0  6.325  0.0  8.044  0.000  2.854  0.205  606.411   \n",
            "2857.48  0.055  1.126    0  6.995  0.0  8.822  0.000  2.903  0.095  606.421   \n",
            "\n",
            "         0.11  \n",
            "0              \n",
            "2251.06  0.00  \n",
            "2251.07  0.01  \n",
            "2251.08  0.02  \n",
            "2251.09  0.03  \n",
            "2251.10  0.04  \n",
            "...       ...  \n",
            "2857.44  0.17  \n",
            "2857.45  0.18  \n",
            "2857.46  0.19  \n",
            "2857.47  0.20  \n",
            "2857.48  0.21  \n",
            "\n",
            "[60643 rows x 11 columns]\n"
          ]
        }
      ]
    },
    {
      "cell_type": "code",
      "source": [
        "\n",
        "zero_sum_rows=data1[data1.apply(lambda row:row.sum()==0,axis=1)].index   # the axis=1 is row ,,\n",
        "data1=data1.drop(zero_sum_rows)\n",
        "data1.shape\n",
        "\n",
        "zero_sum_rows=data2[data2.apply(lambda row:row.sum()==0,axis=1)].index\n",
        "data2=data2.drop(zero_sum_rows)\n",
        "\n",
        "\n",
        "zero_sum_rows=data3[data3.apply(lambda row:row.sum()==0,axis=1)].index\n",
        "data3=data3.drop(zero_sum_rows)\n",
        "\n",
        "\n",
        "zero_sum_rows=data4[data4.apply(lambda row:row.sum()==0,axis=1)].index\n",
        "data4=data4.drop(zero_sum_rows)\n",
        "data4.shape  #(23026, 11)\n",
        "\n",
        "\n",
        "\n"
      ],
      "metadata": {
        "colab": {
          "base_uri": "https://localhost:8080/"
        },
        "id": "YsLL289l4YOW",
        "outputId": "a6106d50-6951-4341-9933-dc713fdff336"
      },
      "execution_count": 7,
      "outputs": [
        {
          "output_type": "execute_result",
          "data": {
            "text/plain": [
              "(23026, 11)"
            ]
          },
          "metadata": {},
          "execution_count": 7
        }
      ]
    },
    {
      "cell_type": "code",
      "source": [
        "print(data4)"
      ],
      "metadata": {
        "colab": {
          "base_uri": "https://localhost:8080/"
        },
        "id": "-ZuvjogzNYoL",
        "outputId": "3683b99a-9ebc-446b-a5ab-c5e569d78d35"
      },
      "execution_count": 8,
      "outputs": [
        {
          "output_type": "stream",
          "name": "stdout",
          "text": [
            "           0.1     0.2  0.3    0.4   0.5   0.6    0.7    0.8    0.9    0.10  \\\n",
            "0                                                                             \n",
            "4495.05 -0.013   1.375    0 -0.050  0.20  0.00  0.204  3.072  0.004    0.00   \n",
            "4495.06 -0.015   1.106    0 -0.050  0.20 -4.03  0.204  3.050  0.286    0.01   \n",
            "4495.07  0.003   1.126    0 -1.630  0.20 -7.09  0.204  3.069  0.003    0.02   \n",
            "4495.08 -0.004   1.146    0 -6.173  0.20 -8.65  0.204  3.059  0.285    0.03   \n",
            "4495.09 -0.008   0.878    0 -9.361  0.20 -9.86  0.204  3.061  0.005    0.04   \n",
            "...        ...     ...  ...    ...   ...   ...    ...    ...    ...     ...   \n",
            "4725.26  1.375  13.924    0 -0.469  2.06  0.00  0.064  2.043  0.172  230.21   \n",
            "4725.27  1.381  13.824    0 -0.469  2.06  0.00  0.064  2.017  0.410  230.22   \n",
            "4725.28  1.389  14.152    0 -0.469  2.06  0.00  0.064  2.033  0.177  230.23   \n",
            "4725.29  1.405  14.083    0 -0.469  2.06  0.00  0.064  2.057  0.421  230.24   \n",
            "4725.30  1.421  14.132    0 -0.469  2.06  0.00  0.064  2.058  0.182  230.25   \n",
            "\n",
            "         0.11  \n",
            "0              \n",
            "4495.05  0.00  \n",
            "4495.06  0.01  \n",
            "4495.07  0.02  \n",
            "4495.08  0.03  \n",
            "4495.09  0.04  \n",
            "...       ...  \n",
            "4725.26  0.32  \n",
            "4725.27  0.33  \n",
            "4725.28  0.34  \n",
            "4725.29  0.35  \n",
            "4725.30  0.36  \n",
            "\n",
            "[23026 rows x 11 columns]\n"
          ]
        }
      ]
    },
    {
      "cell_type": "code",
      "source": [
        "# merging of data frames;;\n",
        "listOfframes=[data,data1,data2,data3,data4]\n",
        "data=pd.concat(listOfframes)\n",
        "data.head()\n",
        "data.shape  #(217329, 11)\n",
        "\n"
      ],
      "metadata": {
        "colab": {
          "base_uri": "https://localhost:8080/"
        },
        "id": "5mSlsGrV_QmP",
        "outputId": "40f6d6ed-1899-4ffa-da5a-5e5d345aae2a"
      },
      "execution_count": 9,
      "outputs": [
        {
          "output_type": "execute_result",
          "data": {
            "text/plain": [
              "(217329, 11)"
            ]
          },
          "metadata": {},
          "execution_count": 9
        }
      ]
    },
    {
      "cell_type": "code",
      "source": [
        "data.head()"
      ],
      "metadata": {
        "colab": {
          "base_uri": "https://localhost:8080/",
          "height": 237
        },
        "id": "Nku7SrB528uI",
        "outputId": "b53cc1dc-55d9-4b84-cc02-127fb5e3d760"
      },
      "execution_count": null,
      "outputs": [
        {
          "output_type": "execute_result",
          "data": {
            "text/plain": [
              "           0.1    0.2  0.3    0.4  0.5   0.6    0.7    0.8    0.9  0.10  0.11\n",
              "0                                                                            \n",
              "2251.06 -0.006  1.007    0 -0.058  0.2  0.00  0.204  3.059  0.036  0.00  0.00\n",
              "2251.07 -0.010  0.699    0 -0.058  0.2 -1.32  0.204  3.055  0.241  0.01  0.01\n",
              "2251.08 -0.004  0.858    0 -0.736  0.2 -2.28  0.204  3.065  0.033  0.02  0.02\n",
              "2251.09 -0.007  0.908    0 -2.164  0.2 -2.66  0.204  3.054  0.242  0.03  0.03\n",
              "2251.10 -0.012  0.838    0 -2.849  0.2 -2.53  0.204  3.052  0.036  0.04  0.04"
            ],
            "text/html": [
              "\n",
              "  <div id=\"df-9fcaf02e-8f7e-4b8b-8547-20c622cdcd35\" class=\"colab-df-container\">\n",
              "    <div>\n",
              "<style scoped>\n",
              "    .dataframe tbody tr th:only-of-type {\n",
              "        vertical-align: middle;\n",
              "    }\n",
              "\n",
              "    .dataframe tbody tr th {\n",
              "        vertical-align: top;\n",
              "    }\n",
              "\n",
              "    .dataframe thead th {\n",
              "        text-align: right;\n",
              "    }\n",
              "</style>\n",
              "<table border=\"1\" class=\"dataframe\">\n",
              "  <thead>\n",
              "    <tr style=\"text-align: right;\">\n",
              "      <th></th>\n",
              "      <th>0.1</th>\n",
              "      <th>0.2</th>\n",
              "      <th>0.3</th>\n",
              "      <th>0.4</th>\n",
              "      <th>0.5</th>\n",
              "      <th>0.6</th>\n",
              "      <th>0.7</th>\n",
              "      <th>0.8</th>\n",
              "      <th>0.9</th>\n",
              "      <th>0.10</th>\n",
              "      <th>0.11</th>\n",
              "    </tr>\n",
              "    <tr>\n",
              "      <th>0</th>\n",
              "      <th></th>\n",
              "      <th></th>\n",
              "      <th></th>\n",
              "      <th></th>\n",
              "      <th></th>\n",
              "      <th></th>\n",
              "      <th></th>\n",
              "      <th></th>\n",
              "      <th></th>\n",
              "      <th></th>\n",
              "      <th></th>\n",
              "    </tr>\n",
              "  </thead>\n",
              "  <tbody>\n",
              "    <tr>\n",
              "      <th>2251.06</th>\n",
              "      <td>-0.006</td>\n",
              "      <td>1.007</td>\n",
              "      <td>0</td>\n",
              "      <td>-0.058</td>\n",
              "      <td>0.2</td>\n",
              "      <td>0.00</td>\n",
              "      <td>0.204</td>\n",
              "      <td>3.059</td>\n",
              "      <td>0.036</td>\n",
              "      <td>0.00</td>\n",
              "      <td>0.00</td>\n",
              "    </tr>\n",
              "    <tr>\n",
              "      <th>2251.07</th>\n",
              "      <td>-0.010</td>\n",
              "      <td>0.699</td>\n",
              "      <td>0</td>\n",
              "      <td>-0.058</td>\n",
              "      <td>0.2</td>\n",
              "      <td>-1.32</td>\n",
              "      <td>0.204</td>\n",
              "      <td>3.055</td>\n",
              "      <td>0.241</td>\n",
              "      <td>0.01</td>\n",
              "      <td>0.01</td>\n",
              "    </tr>\n",
              "    <tr>\n",
              "      <th>2251.08</th>\n",
              "      <td>-0.004</td>\n",
              "      <td>0.858</td>\n",
              "      <td>0</td>\n",
              "      <td>-0.736</td>\n",
              "      <td>0.2</td>\n",
              "      <td>-2.28</td>\n",
              "      <td>0.204</td>\n",
              "      <td>3.065</td>\n",
              "      <td>0.033</td>\n",
              "      <td>0.02</td>\n",
              "      <td>0.02</td>\n",
              "    </tr>\n",
              "    <tr>\n",
              "      <th>2251.09</th>\n",
              "      <td>-0.007</td>\n",
              "      <td>0.908</td>\n",
              "      <td>0</td>\n",
              "      <td>-2.164</td>\n",
              "      <td>0.2</td>\n",
              "      <td>-2.66</td>\n",
              "      <td>0.204</td>\n",
              "      <td>3.054</td>\n",
              "      <td>0.242</td>\n",
              "      <td>0.03</td>\n",
              "      <td>0.03</td>\n",
              "    </tr>\n",
              "    <tr>\n",
              "      <th>2251.10</th>\n",
              "      <td>-0.012</td>\n",
              "      <td>0.838</td>\n",
              "      <td>0</td>\n",
              "      <td>-2.849</td>\n",
              "      <td>0.2</td>\n",
              "      <td>-2.53</td>\n",
              "      <td>0.204</td>\n",
              "      <td>3.052</td>\n",
              "      <td>0.036</td>\n",
              "      <td>0.04</td>\n",
              "      <td>0.04</td>\n",
              "    </tr>\n",
              "  </tbody>\n",
              "</table>\n",
              "</div>\n",
              "    <div class=\"colab-df-buttons\">\n",
              "\n",
              "  <div class=\"colab-df-container\">\n",
              "    <button class=\"colab-df-convert\" onclick=\"convertToInteractive('df-9fcaf02e-8f7e-4b8b-8547-20c622cdcd35')\"\n",
              "            title=\"Convert this dataframe to an interactive table.\"\n",
              "            style=\"display:none;\">\n",
              "\n",
              "  <svg xmlns=\"http://www.w3.org/2000/svg\" height=\"24px\" viewBox=\"0 -960 960 960\">\n",
              "    <path d=\"M120-120v-720h720v720H120Zm60-500h600v-160H180v160Zm220 220h160v-160H400v160Zm0 220h160v-160H400v160ZM180-400h160v-160H180v160Zm440 0h160v-160H620v160ZM180-180h160v-160H180v160Zm440 0h160v-160H620v160Z\"/>\n",
              "  </svg>\n",
              "    </button>\n",
              "\n",
              "  <style>\n",
              "    .colab-df-container {\n",
              "      display:flex;\n",
              "      gap: 12px;\n",
              "    }\n",
              "\n",
              "    .colab-df-convert {\n",
              "      background-color: #E8F0FE;\n",
              "      border: none;\n",
              "      border-radius: 50%;\n",
              "      cursor: pointer;\n",
              "      display: none;\n",
              "      fill: #1967D2;\n",
              "      height: 32px;\n",
              "      padding: 0 0 0 0;\n",
              "      width: 32px;\n",
              "    }\n",
              "\n",
              "    .colab-df-convert:hover {\n",
              "      background-color: #E2EBFA;\n",
              "      box-shadow: 0px 1px 2px rgba(60, 64, 67, 0.3), 0px 1px 3px 1px rgba(60, 64, 67, 0.15);\n",
              "      fill: #174EA6;\n",
              "    }\n",
              "\n",
              "    .colab-df-buttons div {\n",
              "      margin-bottom: 4px;\n",
              "    }\n",
              "\n",
              "    [theme=dark] .colab-df-convert {\n",
              "      background-color: #3B4455;\n",
              "      fill: #D2E3FC;\n",
              "    }\n",
              "\n",
              "    [theme=dark] .colab-df-convert:hover {\n",
              "      background-color: #434B5C;\n",
              "      box-shadow: 0px 1px 3px 1px rgba(0, 0, 0, 0.15);\n",
              "      filter: drop-shadow(0px 1px 2px rgba(0, 0, 0, 0.3));\n",
              "      fill: #FFFFFF;\n",
              "    }\n",
              "  </style>\n",
              "\n",
              "    <script>\n",
              "      const buttonEl =\n",
              "        document.querySelector('#df-9fcaf02e-8f7e-4b8b-8547-20c622cdcd35 button.colab-df-convert');\n",
              "      buttonEl.style.display =\n",
              "        google.colab.kernel.accessAllowed ? 'block' : 'none';\n",
              "\n",
              "      async function convertToInteractive(key) {\n",
              "        const element = document.querySelector('#df-9fcaf02e-8f7e-4b8b-8547-20c622cdcd35');\n",
              "        const dataTable =\n",
              "          await google.colab.kernel.invokeFunction('convertToInteractive',\n",
              "                                                    [key], {});\n",
              "        if (!dataTable) return;\n",
              "\n",
              "        const docLinkHtml = 'Like what you see? Visit the ' +\n",
              "          '<a target=\"_blank\" href=https://colab.research.google.com/notebooks/data_table.ipynb>data table notebook</a>'\n",
              "          + ' to learn more about interactive tables.';\n",
              "        element.innerHTML = '';\n",
              "        dataTable['output_type'] = 'display_data';\n",
              "        await google.colab.output.renderOutput(dataTable, element);\n",
              "        const docLink = document.createElement('div');\n",
              "        docLink.innerHTML = docLinkHtml;\n",
              "        element.appendChild(docLink);\n",
              "      }\n",
              "    </script>\n",
              "  </div>\n",
              "\n",
              "\n",
              "    <div id=\"df-44d12852-bc12-4a7f-8d7c-0fb0bfa65e78\">\n",
              "      <button class=\"colab-df-quickchart\" onclick=\"quickchart('df-44d12852-bc12-4a7f-8d7c-0fb0bfa65e78')\"\n",
              "                title=\"Suggest charts\"\n",
              "                style=\"display:none;\">\n",
              "\n",
              "<svg xmlns=\"http://www.w3.org/2000/svg\" height=\"24px\"viewBox=\"0 0 24 24\"\n",
              "     width=\"24px\">\n",
              "    <g>\n",
              "        <path d=\"M19 3H5c-1.1 0-2 .9-2 2v14c0 1.1.9 2 2 2h14c1.1 0 2-.9 2-2V5c0-1.1-.9-2-2-2zM9 17H7v-7h2v7zm4 0h-2V7h2v10zm4 0h-2v-4h2v4z\"/>\n",
              "    </g>\n",
              "</svg>\n",
              "      </button>\n",
              "\n",
              "<style>\n",
              "  .colab-df-quickchart {\n",
              "      --bg-color: #E8F0FE;\n",
              "      --fill-color: #1967D2;\n",
              "      --hover-bg-color: #E2EBFA;\n",
              "      --hover-fill-color: #174EA6;\n",
              "      --disabled-fill-color: #AAA;\n",
              "      --disabled-bg-color: #DDD;\n",
              "  }\n",
              "\n",
              "  [theme=dark] .colab-df-quickchart {\n",
              "      --bg-color: #3B4455;\n",
              "      --fill-color: #D2E3FC;\n",
              "      --hover-bg-color: #434B5C;\n",
              "      --hover-fill-color: #FFFFFF;\n",
              "      --disabled-bg-color: #3B4455;\n",
              "      --disabled-fill-color: #666;\n",
              "  }\n",
              "\n",
              "  .colab-df-quickchart {\n",
              "    background-color: var(--bg-color);\n",
              "    border: none;\n",
              "    border-radius: 50%;\n",
              "    cursor: pointer;\n",
              "    display: none;\n",
              "    fill: var(--fill-color);\n",
              "    height: 32px;\n",
              "    padding: 0;\n",
              "    width: 32px;\n",
              "  }\n",
              "\n",
              "  .colab-df-quickchart:hover {\n",
              "    background-color: var(--hover-bg-color);\n",
              "    box-shadow: 0 1px 2px rgba(60, 64, 67, 0.3), 0 1px 3px 1px rgba(60, 64, 67, 0.15);\n",
              "    fill: var(--button-hover-fill-color);\n",
              "  }\n",
              "\n",
              "  .colab-df-quickchart-complete:disabled,\n",
              "  .colab-df-quickchart-complete:disabled:hover {\n",
              "    background-color: var(--disabled-bg-color);\n",
              "    fill: var(--disabled-fill-color);\n",
              "    box-shadow: none;\n",
              "  }\n",
              "\n",
              "  .colab-df-spinner {\n",
              "    border: 2px solid var(--fill-color);\n",
              "    border-color: transparent;\n",
              "    border-bottom-color: var(--fill-color);\n",
              "    animation:\n",
              "      spin 1s steps(1) infinite;\n",
              "  }\n",
              "\n",
              "  @keyframes spin {\n",
              "    0% {\n",
              "      border-color: transparent;\n",
              "      border-bottom-color: var(--fill-color);\n",
              "      border-left-color: var(--fill-color);\n",
              "    }\n",
              "    20% {\n",
              "      border-color: transparent;\n",
              "      border-left-color: var(--fill-color);\n",
              "      border-top-color: var(--fill-color);\n",
              "    }\n",
              "    30% {\n",
              "      border-color: transparent;\n",
              "      border-left-color: var(--fill-color);\n",
              "      border-top-color: var(--fill-color);\n",
              "      border-right-color: var(--fill-color);\n",
              "    }\n",
              "    40% {\n",
              "      border-color: transparent;\n",
              "      border-right-color: var(--fill-color);\n",
              "      border-top-color: var(--fill-color);\n",
              "    }\n",
              "    60% {\n",
              "      border-color: transparent;\n",
              "      border-right-color: var(--fill-color);\n",
              "    }\n",
              "    80% {\n",
              "      border-color: transparent;\n",
              "      border-right-color: var(--fill-color);\n",
              "      border-bottom-color: var(--fill-color);\n",
              "    }\n",
              "    90% {\n",
              "      border-color: transparent;\n",
              "      border-bottom-color: var(--fill-color);\n",
              "    }\n",
              "  }\n",
              "</style>\n",
              "\n",
              "      <script>\n",
              "        async function quickchart(key) {\n",
              "          const quickchartButtonEl =\n",
              "            document.querySelector('#' + key + ' button');\n",
              "          quickchartButtonEl.disabled = true;  // To prevent multiple clicks.\n",
              "          quickchartButtonEl.classList.add('colab-df-spinner');\n",
              "          try {\n",
              "            const charts = await google.colab.kernel.invokeFunction(\n",
              "                'suggestCharts', [key], {});\n",
              "          } catch (error) {\n",
              "            console.error('Error during call to suggestCharts:', error);\n",
              "          }\n",
              "          quickchartButtonEl.classList.remove('colab-df-spinner');\n",
              "          quickchartButtonEl.classList.add('colab-df-quickchart-complete');\n",
              "        }\n",
              "        (() => {\n",
              "          let quickchartButtonEl =\n",
              "            document.querySelector('#df-44d12852-bc12-4a7f-8d7c-0fb0bfa65e78 button');\n",
              "          quickchartButtonEl.style.display =\n",
              "            google.colab.kernel.accessAllowed ? 'block' : 'none';\n",
              "        })();\n",
              "      </script>\n",
              "    </div>\n",
              "\n",
              "    </div>\n",
              "  </div>\n"
            ],
            "application/vnd.google.colaboratory.intrinsic+json": {
              "type": "dataframe",
              "variable_name": "data"
            }
          },
          "metadata": {},
          "execution_count": 6
        }
      ]
    },
    {
      "cell_type": "code",
      "source": [
        "# sorting the data on  the  basis of time ..\n",
        "data=data.sort_values(by=\"0\")\n",
        "data.head()\n"
      ],
      "metadata": {
        "colab": {
          "base_uri": "https://localhost:8080/",
          "height": 237
        },
        "id": "FzvHojAlNiaT",
        "outputId": "40c736d9-ad88-4ec2-cc7f-b4ee74f2332d"
      },
      "execution_count": null,
      "outputs": [
        {
          "output_type": "execute_result",
          "data": {
            "text/plain": [
              "           0.1    0.2  0.3    0.4  0.5   0.6    0.7    0.8    0.9  0.10  0.11\n",
              "0                                                                            \n",
              "2251.06 -0.006  1.007    0 -0.058  0.2  0.00  0.204  3.059  0.036  0.00  0.00\n",
              "2251.07 -0.010  0.699    0 -0.058  0.2 -1.32  0.204  3.055  0.241  0.01  0.01\n",
              "2251.08 -0.004  0.858    0 -0.736  0.2 -2.28  0.204  3.065  0.033  0.02  0.02\n",
              "2251.09 -0.007  0.908    0 -2.164  0.2 -2.66  0.204  3.054  0.242  0.03  0.03\n",
              "2251.10 -0.012  0.838    0 -2.849  0.2 -2.53  0.204  3.052  0.036  0.04  0.04"
            ],
            "text/html": [
              "\n",
              "  <div id=\"df-5649a0ba-a8ea-4c6c-92db-f60092f33ebb\" class=\"colab-df-container\">\n",
              "    <div>\n",
              "<style scoped>\n",
              "    .dataframe tbody tr th:only-of-type {\n",
              "        vertical-align: middle;\n",
              "    }\n",
              "\n",
              "    .dataframe tbody tr th {\n",
              "        vertical-align: top;\n",
              "    }\n",
              "\n",
              "    .dataframe thead th {\n",
              "        text-align: right;\n",
              "    }\n",
              "</style>\n",
              "<table border=\"1\" class=\"dataframe\">\n",
              "  <thead>\n",
              "    <tr style=\"text-align: right;\">\n",
              "      <th></th>\n",
              "      <th>0.1</th>\n",
              "      <th>0.2</th>\n",
              "      <th>0.3</th>\n",
              "      <th>0.4</th>\n",
              "      <th>0.5</th>\n",
              "      <th>0.6</th>\n",
              "      <th>0.7</th>\n",
              "      <th>0.8</th>\n",
              "      <th>0.9</th>\n",
              "      <th>0.10</th>\n",
              "      <th>0.11</th>\n",
              "    </tr>\n",
              "    <tr>\n",
              "      <th>0</th>\n",
              "      <th></th>\n",
              "      <th></th>\n",
              "      <th></th>\n",
              "      <th></th>\n",
              "      <th></th>\n",
              "      <th></th>\n",
              "      <th></th>\n",
              "      <th></th>\n",
              "      <th></th>\n",
              "      <th></th>\n",
              "      <th></th>\n",
              "    </tr>\n",
              "  </thead>\n",
              "  <tbody>\n",
              "    <tr>\n",
              "      <th>2251.06</th>\n",
              "      <td>-0.006</td>\n",
              "      <td>1.007</td>\n",
              "      <td>0</td>\n",
              "      <td>-0.058</td>\n",
              "      <td>0.2</td>\n",
              "      <td>0.00</td>\n",
              "      <td>0.204</td>\n",
              "      <td>3.059</td>\n",
              "      <td>0.036</td>\n",
              "      <td>0.00</td>\n",
              "      <td>0.00</td>\n",
              "    </tr>\n",
              "    <tr>\n",
              "      <th>2251.07</th>\n",
              "      <td>-0.010</td>\n",
              "      <td>0.699</td>\n",
              "      <td>0</td>\n",
              "      <td>-0.058</td>\n",
              "      <td>0.2</td>\n",
              "      <td>-1.32</td>\n",
              "      <td>0.204</td>\n",
              "      <td>3.055</td>\n",
              "      <td>0.241</td>\n",
              "      <td>0.01</td>\n",
              "      <td>0.01</td>\n",
              "    </tr>\n",
              "    <tr>\n",
              "      <th>2251.08</th>\n",
              "      <td>-0.004</td>\n",
              "      <td>0.858</td>\n",
              "      <td>0</td>\n",
              "      <td>-0.736</td>\n",
              "      <td>0.2</td>\n",
              "      <td>-2.28</td>\n",
              "      <td>0.204</td>\n",
              "      <td>3.065</td>\n",
              "      <td>0.033</td>\n",
              "      <td>0.02</td>\n",
              "      <td>0.02</td>\n",
              "    </tr>\n",
              "    <tr>\n",
              "      <th>2251.09</th>\n",
              "      <td>-0.007</td>\n",
              "      <td>0.908</td>\n",
              "      <td>0</td>\n",
              "      <td>-2.164</td>\n",
              "      <td>0.2</td>\n",
              "      <td>-2.66</td>\n",
              "      <td>0.204</td>\n",
              "      <td>3.054</td>\n",
              "      <td>0.242</td>\n",
              "      <td>0.03</td>\n",
              "      <td>0.03</td>\n",
              "    </tr>\n",
              "    <tr>\n",
              "      <th>2251.10</th>\n",
              "      <td>-0.012</td>\n",
              "      <td>0.838</td>\n",
              "      <td>0</td>\n",
              "      <td>-2.849</td>\n",
              "      <td>0.2</td>\n",
              "      <td>-2.53</td>\n",
              "      <td>0.204</td>\n",
              "      <td>3.052</td>\n",
              "      <td>0.036</td>\n",
              "      <td>0.04</td>\n",
              "      <td>0.04</td>\n",
              "    </tr>\n",
              "  </tbody>\n",
              "</table>\n",
              "</div>\n",
              "    <div class=\"colab-df-buttons\">\n",
              "\n",
              "  <div class=\"colab-df-container\">\n",
              "    <button class=\"colab-df-convert\" onclick=\"convertToInteractive('df-5649a0ba-a8ea-4c6c-92db-f60092f33ebb')\"\n",
              "            title=\"Convert this dataframe to an interactive table.\"\n",
              "            style=\"display:none;\">\n",
              "\n",
              "  <svg xmlns=\"http://www.w3.org/2000/svg\" height=\"24px\" viewBox=\"0 -960 960 960\">\n",
              "    <path d=\"M120-120v-720h720v720H120Zm60-500h600v-160H180v160Zm220 220h160v-160H400v160Zm0 220h160v-160H400v160ZM180-400h160v-160H180v160Zm440 0h160v-160H620v160ZM180-180h160v-160H180v160Zm440 0h160v-160H620v160Z\"/>\n",
              "  </svg>\n",
              "    </button>\n",
              "\n",
              "  <style>\n",
              "    .colab-df-container {\n",
              "      display:flex;\n",
              "      gap: 12px;\n",
              "    }\n",
              "\n",
              "    .colab-df-convert {\n",
              "      background-color: #E8F0FE;\n",
              "      border: none;\n",
              "      border-radius: 50%;\n",
              "      cursor: pointer;\n",
              "      display: none;\n",
              "      fill: #1967D2;\n",
              "      height: 32px;\n",
              "      padding: 0 0 0 0;\n",
              "      width: 32px;\n",
              "    }\n",
              "\n",
              "    .colab-df-convert:hover {\n",
              "      background-color: #E2EBFA;\n",
              "      box-shadow: 0px 1px 2px rgba(60, 64, 67, 0.3), 0px 1px 3px 1px rgba(60, 64, 67, 0.15);\n",
              "      fill: #174EA6;\n",
              "    }\n",
              "\n",
              "    .colab-df-buttons div {\n",
              "      margin-bottom: 4px;\n",
              "    }\n",
              "\n",
              "    [theme=dark] .colab-df-convert {\n",
              "      background-color: #3B4455;\n",
              "      fill: #D2E3FC;\n",
              "    }\n",
              "\n",
              "    [theme=dark] .colab-df-convert:hover {\n",
              "      background-color: #434B5C;\n",
              "      box-shadow: 0px 1px 3px 1px rgba(0, 0, 0, 0.15);\n",
              "      filter: drop-shadow(0px 1px 2px rgba(0, 0, 0, 0.3));\n",
              "      fill: #FFFFFF;\n",
              "    }\n",
              "  </style>\n",
              "\n",
              "    <script>\n",
              "      const buttonEl =\n",
              "        document.querySelector('#df-5649a0ba-a8ea-4c6c-92db-f60092f33ebb button.colab-df-convert');\n",
              "      buttonEl.style.display =\n",
              "        google.colab.kernel.accessAllowed ? 'block' : 'none';\n",
              "\n",
              "      async function convertToInteractive(key) {\n",
              "        const element = document.querySelector('#df-5649a0ba-a8ea-4c6c-92db-f60092f33ebb');\n",
              "        const dataTable =\n",
              "          await google.colab.kernel.invokeFunction('convertToInteractive',\n",
              "                                                    [key], {});\n",
              "        if (!dataTable) return;\n",
              "\n",
              "        const docLinkHtml = 'Like what you see? Visit the ' +\n",
              "          '<a target=\"_blank\" href=https://colab.research.google.com/notebooks/data_table.ipynb>data table notebook</a>'\n",
              "          + ' to learn more about interactive tables.';\n",
              "        element.innerHTML = '';\n",
              "        dataTable['output_type'] = 'display_data';\n",
              "        await google.colab.output.renderOutput(dataTable, element);\n",
              "        const docLink = document.createElement('div');\n",
              "        docLink.innerHTML = docLinkHtml;\n",
              "        element.appendChild(docLink);\n",
              "      }\n",
              "    </script>\n",
              "  </div>\n",
              "\n",
              "\n",
              "    <div id=\"df-4d691580-7bca-4e51-8aa9-dee173e294dd\">\n",
              "      <button class=\"colab-df-quickchart\" onclick=\"quickchart('df-4d691580-7bca-4e51-8aa9-dee173e294dd')\"\n",
              "                title=\"Suggest charts\"\n",
              "                style=\"display:none;\">\n",
              "\n",
              "<svg xmlns=\"http://www.w3.org/2000/svg\" height=\"24px\"viewBox=\"0 0 24 24\"\n",
              "     width=\"24px\">\n",
              "    <g>\n",
              "        <path d=\"M19 3H5c-1.1 0-2 .9-2 2v14c0 1.1.9 2 2 2h14c1.1 0 2-.9 2-2V5c0-1.1-.9-2-2-2zM9 17H7v-7h2v7zm4 0h-2V7h2v10zm4 0h-2v-4h2v4z\"/>\n",
              "    </g>\n",
              "</svg>\n",
              "      </button>\n",
              "\n",
              "<style>\n",
              "  .colab-df-quickchart {\n",
              "      --bg-color: #E8F0FE;\n",
              "      --fill-color: #1967D2;\n",
              "      --hover-bg-color: #E2EBFA;\n",
              "      --hover-fill-color: #174EA6;\n",
              "      --disabled-fill-color: #AAA;\n",
              "      --disabled-bg-color: #DDD;\n",
              "  }\n",
              "\n",
              "  [theme=dark] .colab-df-quickchart {\n",
              "      --bg-color: #3B4455;\n",
              "      --fill-color: #D2E3FC;\n",
              "      --hover-bg-color: #434B5C;\n",
              "      --hover-fill-color: #FFFFFF;\n",
              "      --disabled-bg-color: #3B4455;\n",
              "      --disabled-fill-color: #666;\n",
              "  }\n",
              "\n",
              "  .colab-df-quickchart {\n",
              "    background-color: var(--bg-color);\n",
              "    border: none;\n",
              "    border-radius: 50%;\n",
              "    cursor: pointer;\n",
              "    display: none;\n",
              "    fill: var(--fill-color);\n",
              "    height: 32px;\n",
              "    padding: 0;\n",
              "    width: 32px;\n",
              "  }\n",
              "\n",
              "  .colab-df-quickchart:hover {\n",
              "    background-color: var(--hover-bg-color);\n",
              "    box-shadow: 0 1px 2px rgba(60, 64, 67, 0.3), 0 1px 3px 1px rgba(60, 64, 67, 0.15);\n",
              "    fill: var(--button-hover-fill-color);\n",
              "  }\n",
              "\n",
              "  .colab-df-quickchart-complete:disabled,\n",
              "  .colab-df-quickchart-complete:disabled:hover {\n",
              "    background-color: var(--disabled-bg-color);\n",
              "    fill: var(--disabled-fill-color);\n",
              "    box-shadow: none;\n",
              "  }\n",
              "\n",
              "  .colab-df-spinner {\n",
              "    border: 2px solid var(--fill-color);\n",
              "    border-color: transparent;\n",
              "    border-bottom-color: var(--fill-color);\n",
              "    animation:\n",
              "      spin 1s steps(1) infinite;\n",
              "  }\n",
              "\n",
              "  @keyframes spin {\n",
              "    0% {\n",
              "      border-color: transparent;\n",
              "      border-bottom-color: var(--fill-color);\n",
              "      border-left-color: var(--fill-color);\n",
              "    }\n",
              "    20% {\n",
              "      border-color: transparent;\n",
              "      border-left-color: var(--fill-color);\n",
              "      border-top-color: var(--fill-color);\n",
              "    }\n",
              "    30% {\n",
              "      border-color: transparent;\n",
              "      border-left-color: var(--fill-color);\n",
              "      border-top-color: var(--fill-color);\n",
              "      border-right-color: var(--fill-color);\n",
              "    }\n",
              "    40% {\n",
              "      border-color: transparent;\n",
              "      border-right-color: var(--fill-color);\n",
              "      border-top-color: var(--fill-color);\n",
              "    }\n",
              "    60% {\n",
              "      border-color: transparent;\n",
              "      border-right-color: var(--fill-color);\n",
              "    }\n",
              "    80% {\n",
              "      border-color: transparent;\n",
              "      border-right-color: var(--fill-color);\n",
              "      border-bottom-color: var(--fill-color);\n",
              "    }\n",
              "    90% {\n",
              "      border-color: transparent;\n",
              "      border-bottom-color: var(--fill-color);\n",
              "    }\n",
              "  }\n",
              "</style>\n",
              "\n",
              "      <script>\n",
              "        async function quickchart(key) {\n",
              "          const quickchartButtonEl =\n",
              "            document.querySelector('#' + key + ' button');\n",
              "          quickchartButtonEl.disabled = true;  // To prevent multiple clicks.\n",
              "          quickchartButtonEl.classList.add('colab-df-spinner');\n",
              "          try {\n",
              "            const charts = await google.colab.kernel.invokeFunction(\n",
              "                'suggestCharts', [key], {});\n",
              "          } catch (error) {\n",
              "            console.error('Error during call to suggestCharts:', error);\n",
              "          }\n",
              "          quickchartButtonEl.classList.remove('colab-df-spinner');\n",
              "          quickchartButtonEl.classList.add('colab-df-quickchart-complete');\n",
              "        }\n",
              "        (() => {\n",
              "          let quickchartButtonEl =\n",
              "            document.querySelector('#df-4d691580-7bca-4e51-8aa9-dee173e294dd button');\n",
              "          quickchartButtonEl.style.display =\n",
              "            google.colab.kernel.accessAllowed ? 'block' : 'none';\n",
              "        })();\n",
              "      </script>\n",
              "    </div>\n",
              "\n",
              "    </div>\n",
              "  </div>\n"
            ],
            "application/vnd.google.colaboratory.intrinsic+json": {
              "type": "dataframe",
              "variable_name": "data"
            }
          },
          "metadata": {},
          "execution_count": 6
        }
      ]
    },
    {
      "cell_type": "code",
      "source": [
        "# requiring only column 1, 8 as predictors and 2nd as prediction ..\n",
        "data.head()\n",
        "data_=data.iloc[:,[0,7,1]]\n",
        "type(data_)  # dataframes,,\n",
        "print(data_.head(200))\n",
        "data_.shape\n",
        "\n"
      ],
      "metadata": {
        "colab": {
          "base_uri": "https://localhost:8080/"
        },
        "id": "kOg-qc8l5HXl",
        "outputId": "c247921c-fd7d-4361-dbd3-9d47fce9c512"
      },
      "execution_count": 10,
      "outputs": [
        {
          "output_type": "stream",
          "name": "stdout",
          "text": [
            "           0.1    0.8    0.2\n",
            "0                           \n",
            "2251.06 -0.006  3.059  1.007\n",
            "2251.07 -0.010  3.055  0.699\n",
            "2251.08 -0.004  3.065  0.858\n",
            "2251.09 -0.007  3.054  0.908\n",
            "2251.10 -0.012  3.052  0.838\n",
            "...        ...    ...    ...\n",
            "2253.01  0.479  1.745  0.878\n",
            "2253.02  0.469  1.759  0.451\n",
            "2253.03  0.447  1.768  0.739\n",
            "2253.04  0.443  1.753  0.480\n",
            "2253.05  0.434  1.756  0.798\n",
            "\n",
            "[200 rows x 3 columns]\n"
          ]
        },
        {
          "output_type": "execute_result",
          "data": {
            "text/plain": [
              "(217329, 3)"
            ]
          },
          "metadata": {},
          "execution_count": 10
        }
      ]
    },
    {
      "cell_type": "markdown",
      "source": [
        "from here data is _data"
      ],
      "metadata": {
        "id": "XnykDgx6P8eA"
      }
    },
    {
      "cell_type": "code",
      "source": [
        "# changing column names..\n",
        "\n",
        "current_col_names=list(data_.columns)\n",
        "print(current_col_names)\n",
        "current_col_names[0]=\"pressure_predictor1\"\n",
        "current_col_names[1]=\"strain_predictor2\"\n",
        "current_col_names[2]=\"force_prediction\"\n",
        "data_.columns=current_col_names\n",
        "print(data_.head())\n",
        "data_.shape\n",
        "\n",
        "\n"
      ],
      "metadata": {
        "colab": {
          "base_uri": "https://localhost:8080/"
        },
        "id": "JTDwZC0g9rTG",
        "outputId": "0ba074b5-5973-4a8a-b18e-12a6bd214442"
      },
      "execution_count": 11,
      "outputs": [
        {
          "output_type": "stream",
          "name": "stdout",
          "text": [
            "['0.1', '0.8', '0.2']\n",
            "         pressure_predictor1  strain_predictor2  force_prediction\n",
            "0                                                                \n",
            "2251.06               -0.006              3.059             1.007\n",
            "2251.07               -0.010              3.055             0.699\n",
            "2251.08               -0.004              3.065             0.858\n",
            "2251.09               -0.007              3.054             0.908\n",
            "2251.10               -0.012              3.052             0.838\n"
          ]
        },
        {
          "output_type": "execute_result",
          "data": {
            "text/plain": [
              "(217329, 3)"
            ]
          },
          "metadata": {},
          "execution_count": 11
        }
      ]
    },
    {
      "cell_type": "code",
      "source": [
        "# min-max_scalling...\n",
        "\n",
        "for i in range (0,3):\n",
        "  c_column = data_.iloc[:, i].copy()\n",
        "  min_c=c_column.min()\n",
        "  max_c=c_column.max()\n",
        "\n",
        "  if max_c-min_c==0:\n",
        "     data_.iloc[:,i]=0.0\n",
        "  else:\n",
        "     data_.iloc[:,i]=(c_column-min_c)/(max_c-min_c)  # min-max scalling\n",
        "data_.head()\n",
        "\n",
        "\n"
      ],
      "metadata": {
        "colab": {
          "base_uri": "https://localhost:8080/",
          "height": 237
        },
        "id": "Fw3pExVtr4C9",
        "outputId": "3f156f18-4fcb-41fb-baa0-374147e000f4"
      },
      "execution_count": null,
      "outputs": [
        {
          "output_type": "execute_result",
          "data": {
            "text/plain": [
              "         pressure_predictor1  strain_predictor2  force_prediction\n",
              "0                                                                \n",
              "2251.06             0.006512           0.981476          0.061139\n",
              "2251.07             0.004651           0.980198          0.050494\n",
              "2251.08             0.007442           0.983392          0.055989\n",
              "2251.09             0.006047           0.979879          0.057718\n",
              "2251.10             0.003721           0.979240          0.055298"
            ],
            "text/html": [
              "\n",
              "  <div id=\"df-a01af7ee-654d-4517-a873-233af1f3107f\" class=\"colab-df-container\">\n",
              "    <div>\n",
              "<style scoped>\n",
              "    .dataframe tbody tr th:only-of-type {\n",
              "        vertical-align: middle;\n",
              "    }\n",
              "\n",
              "    .dataframe tbody tr th {\n",
              "        vertical-align: top;\n",
              "    }\n",
              "\n",
              "    .dataframe thead th {\n",
              "        text-align: right;\n",
              "    }\n",
              "</style>\n",
              "<table border=\"1\" class=\"dataframe\">\n",
              "  <thead>\n",
              "    <tr style=\"text-align: right;\">\n",
              "      <th></th>\n",
              "      <th>pressure_predictor1</th>\n",
              "      <th>strain_predictor2</th>\n",
              "      <th>force_prediction</th>\n",
              "    </tr>\n",
              "    <tr>\n",
              "      <th>0</th>\n",
              "      <th></th>\n",
              "      <th></th>\n",
              "      <th></th>\n",
              "    </tr>\n",
              "  </thead>\n",
              "  <tbody>\n",
              "    <tr>\n",
              "      <th>2251.06</th>\n",
              "      <td>0.006512</td>\n",
              "      <td>0.981476</td>\n",
              "      <td>0.061139</td>\n",
              "    </tr>\n",
              "    <tr>\n",
              "      <th>2251.07</th>\n",
              "      <td>0.004651</td>\n",
              "      <td>0.980198</td>\n",
              "      <td>0.050494</td>\n",
              "    </tr>\n",
              "    <tr>\n",
              "      <th>2251.08</th>\n",
              "      <td>0.007442</td>\n",
              "      <td>0.983392</td>\n",
              "      <td>0.055989</td>\n",
              "    </tr>\n",
              "    <tr>\n",
              "      <th>2251.09</th>\n",
              "      <td>0.006047</td>\n",
              "      <td>0.979879</td>\n",
              "      <td>0.057718</td>\n",
              "    </tr>\n",
              "    <tr>\n",
              "      <th>2251.10</th>\n",
              "      <td>0.003721</td>\n",
              "      <td>0.979240</td>\n",
              "      <td>0.055298</td>\n",
              "    </tr>\n",
              "  </tbody>\n",
              "</table>\n",
              "</div>\n",
              "    <div class=\"colab-df-buttons\">\n",
              "\n",
              "  <div class=\"colab-df-container\">\n",
              "    <button class=\"colab-df-convert\" onclick=\"convertToInteractive('df-a01af7ee-654d-4517-a873-233af1f3107f')\"\n",
              "            title=\"Convert this dataframe to an interactive table.\"\n",
              "            style=\"display:none;\">\n",
              "\n",
              "  <svg xmlns=\"http://www.w3.org/2000/svg\" height=\"24px\" viewBox=\"0 -960 960 960\">\n",
              "    <path d=\"M120-120v-720h720v720H120Zm60-500h600v-160H180v160Zm220 220h160v-160H400v160Zm0 220h160v-160H400v160ZM180-400h160v-160H180v160Zm440 0h160v-160H620v160ZM180-180h160v-160H180v160Zm440 0h160v-160H620v160Z\"/>\n",
              "  </svg>\n",
              "    </button>\n",
              "\n",
              "  <style>\n",
              "    .colab-df-container {\n",
              "      display:flex;\n",
              "      gap: 12px;\n",
              "    }\n",
              "\n",
              "    .colab-df-convert {\n",
              "      background-color: #E8F0FE;\n",
              "      border: none;\n",
              "      border-radius: 50%;\n",
              "      cursor: pointer;\n",
              "      display: none;\n",
              "      fill: #1967D2;\n",
              "      height: 32px;\n",
              "      padding: 0 0 0 0;\n",
              "      width: 32px;\n",
              "    }\n",
              "\n",
              "    .colab-df-convert:hover {\n",
              "      background-color: #E2EBFA;\n",
              "      box-shadow: 0px 1px 2px rgba(60, 64, 67, 0.3), 0px 1px 3px 1px rgba(60, 64, 67, 0.15);\n",
              "      fill: #174EA6;\n",
              "    }\n",
              "\n",
              "    .colab-df-buttons div {\n",
              "      margin-bottom: 4px;\n",
              "    }\n",
              "\n",
              "    [theme=dark] .colab-df-convert {\n",
              "      background-color: #3B4455;\n",
              "      fill: #D2E3FC;\n",
              "    }\n",
              "\n",
              "    [theme=dark] .colab-df-convert:hover {\n",
              "      background-color: #434B5C;\n",
              "      box-shadow: 0px 1px 3px 1px rgba(0, 0, 0, 0.15);\n",
              "      filter: drop-shadow(0px 1px 2px rgba(0, 0, 0, 0.3));\n",
              "      fill: #FFFFFF;\n",
              "    }\n",
              "  </style>\n",
              "\n",
              "    <script>\n",
              "      const buttonEl =\n",
              "        document.querySelector('#df-a01af7ee-654d-4517-a873-233af1f3107f button.colab-df-convert');\n",
              "      buttonEl.style.display =\n",
              "        google.colab.kernel.accessAllowed ? 'block' : 'none';\n",
              "\n",
              "      async function convertToInteractive(key) {\n",
              "        const element = document.querySelector('#df-a01af7ee-654d-4517-a873-233af1f3107f');\n",
              "        const dataTable =\n",
              "          await google.colab.kernel.invokeFunction('convertToInteractive',\n",
              "                                                    [key], {});\n",
              "        if (!dataTable) return;\n",
              "\n",
              "        const docLinkHtml = 'Like what you see? Visit the ' +\n",
              "          '<a target=\"_blank\" href=https://colab.research.google.com/notebooks/data_table.ipynb>data table notebook</a>'\n",
              "          + ' to learn more about interactive tables.';\n",
              "        element.innerHTML = '';\n",
              "        dataTable['output_type'] = 'display_data';\n",
              "        await google.colab.output.renderOutput(dataTable, element);\n",
              "        const docLink = document.createElement('div');\n",
              "        docLink.innerHTML = docLinkHtml;\n",
              "        element.appendChild(docLink);\n",
              "      }\n",
              "    </script>\n",
              "  </div>\n",
              "\n",
              "\n",
              "    <div id=\"df-9153dfe3-419b-4225-8bea-ad209c3435be\">\n",
              "      <button class=\"colab-df-quickchart\" onclick=\"quickchart('df-9153dfe3-419b-4225-8bea-ad209c3435be')\"\n",
              "                title=\"Suggest charts\"\n",
              "                style=\"display:none;\">\n",
              "\n",
              "<svg xmlns=\"http://www.w3.org/2000/svg\" height=\"24px\"viewBox=\"0 0 24 24\"\n",
              "     width=\"24px\">\n",
              "    <g>\n",
              "        <path d=\"M19 3H5c-1.1 0-2 .9-2 2v14c0 1.1.9 2 2 2h14c1.1 0 2-.9 2-2V5c0-1.1-.9-2-2-2zM9 17H7v-7h2v7zm4 0h-2V7h2v10zm4 0h-2v-4h2v4z\"/>\n",
              "    </g>\n",
              "</svg>\n",
              "      </button>\n",
              "\n",
              "<style>\n",
              "  .colab-df-quickchart {\n",
              "      --bg-color: #E8F0FE;\n",
              "      --fill-color: #1967D2;\n",
              "      --hover-bg-color: #E2EBFA;\n",
              "      --hover-fill-color: #174EA6;\n",
              "      --disabled-fill-color: #AAA;\n",
              "      --disabled-bg-color: #DDD;\n",
              "  }\n",
              "\n",
              "  [theme=dark] .colab-df-quickchart {\n",
              "      --bg-color: #3B4455;\n",
              "      --fill-color: #D2E3FC;\n",
              "      --hover-bg-color: #434B5C;\n",
              "      --hover-fill-color: #FFFFFF;\n",
              "      --disabled-bg-color: #3B4455;\n",
              "      --disabled-fill-color: #666;\n",
              "  }\n",
              "\n",
              "  .colab-df-quickchart {\n",
              "    background-color: var(--bg-color);\n",
              "    border: none;\n",
              "    border-radius: 50%;\n",
              "    cursor: pointer;\n",
              "    display: none;\n",
              "    fill: var(--fill-color);\n",
              "    height: 32px;\n",
              "    padding: 0;\n",
              "    width: 32px;\n",
              "  }\n",
              "\n",
              "  .colab-df-quickchart:hover {\n",
              "    background-color: var(--hover-bg-color);\n",
              "    box-shadow: 0 1px 2px rgba(60, 64, 67, 0.3), 0 1px 3px 1px rgba(60, 64, 67, 0.15);\n",
              "    fill: var(--button-hover-fill-color);\n",
              "  }\n",
              "\n",
              "  .colab-df-quickchart-complete:disabled,\n",
              "  .colab-df-quickchart-complete:disabled:hover {\n",
              "    background-color: var(--disabled-bg-color);\n",
              "    fill: var(--disabled-fill-color);\n",
              "    box-shadow: none;\n",
              "  }\n",
              "\n",
              "  .colab-df-spinner {\n",
              "    border: 2px solid var(--fill-color);\n",
              "    border-color: transparent;\n",
              "    border-bottom-color: var(--fill-color);\n",
              "    animation:\n",
              "      spin 1s steps(1) infinite;\n",
              "  }\n",
              "\n",
              "  @keyframes spin {\n",
              "    0% {\n",
              "      border-color: transparent;\n",
              "      border-bottom-color: var(--fill-color);\n",
              "      border-left-color: var(--fill-color);\n",
              "    }\n",
              "    20% {\n",
              "      border-color: transparent;\n",
              "      border-left-color: var(--fill-color);\n",
              "      border-top-color: var(--fill-color);\n",
              "    }\n",
              "    30% {\n",
              "      border-color: transparent;\n",
              "      border-left-color: var(--fill-color);\n",
              "      border-top-color: var(--fill-color);\n",
              "      border-right-color: var(--fill-color);\n",
              "    }\n",
              "    40% {\n",
              "      border-color: transparent;\n",
              "      border-right-color: var(--fill-color);\n",
              "      border-top-color: var(--fill-color);\n",
              "    }\n",
              "    60% {\n",
              "      border-color: transparent;\n",
              "      border-right-color: var(--fill-color);\n",
              "    }\n",
              "    80% {\n",
              "      border-color: transparent;\n",
              "      border-right-color: var(--fill-color);\n",
              "      border-bottom-color: var(--fill-color);\n",
              "    }\n",
              "    90% {\n",
              "      border-color: transparent;\n",
              "      border-bottom-color: var(--fill-color);\n",
              "    }\n",
              "  }\n",
              "</style>\n",
              "\n",
              "      <script>\n",
              "        async function quickchart(key) {\n",
              "          const quickchartButtonEl =\n",
              "            document.querySelector('#' + key + ' button');\n",
              "          quickchartButtonEl.disabled = true;  // To prevent multiple clicks.\n",
              "          quickchartButtonEl.classList.add('colab-df-spinner');\n",
              "          try {\n",
              "            const charts = await google.colab.kernel.invokeFunction(\n",
              "                'suggestCharts', [key], {});\n",
              "          } catch (error) {\n",
              "            console.error('Error during call to suggestCharts:', error);\n",
              "          }\n",
              "          quickchartButtonEl.classList.remove('colab-df-spinner');\n",
              "          quickchartButtonEl.classList.add('colab-df-quickchart-complete');\n",
              "        }\n",
              "        (() => {\n",
              "          let quickchartButtonEl =\n",
              "            document.querySelector('#df-9153dfe3-419b-4225-8bea-ad209c3435be button');\n",
              "          quickchartButtonEl.style.display =\n",
              "            google.colab.kernel.accessAllowed ? 'block' : 'none';\n",
              "        })();\n",
              "      </script>\n",
              "    </div>\n",
              "\n",
              "    </div>\n",
              "  </div>\n"
            ],
            "application/vnd.google.colaboratory.intrinsic+json": {
              "type": "dataframe",
              "variable_name": "data_"
            }
          },
          "metadata": {},
          "execution_count": 9
        }
      ]
    },
    {
      "cell_type": "code",
      "source": [
        "\"\"\"X=data_.iloc[:,:2].values\n",
        "print(X)\n",
        "X.shape\"\"\""
      ],
      "metadata": {
        "colab": {
          "base_uri": "https://localhost:8080/"
        },
        "id": "dETw_YGguDP4",
        "outputId": "4df3f00e-d272-44e0-9114-de41b829114f"
      },
      "execution_count": null,
      "outputs": [
        {
          "output_type": "stream",
          "name": "stdout",
          "text": [
            "[[0.00651163 0.98147557]\n",
            " [0.00465116 0.98019802]\n",
            " [0.00744186 0.98339189]\n",
            " ...\n",
            " [0.65534884 0.65378473]\n",
            " [0.6627907  0.66145002]\n",
            " [0.67023256 0.6617694 ]]\n"
          ]
        },
        {
          "output_type": "execute_result",
          "data": {
            "text/plain": [
              "(217329, 2)"
            ]
          },
          "metadata": {},
          "execution_count": 113
        }
      ]
    },
    {
      "cell_type": "code",
      "source": [
        "\"\"\"Y=data_.iloc[:,2].values\n",
        "print(Y)\n",
        "Y.shape\"\"\""
      ],
      "metadata": {
        "colab": {
          "base_uri": "https://localhost:8080/"
        },
        "id": "DUfPJN-WuJun",
        "outputId": "da8c1018-eac9-4162-af93-66d0ab802d37"
      },
      "execution_count": null,
      "outputs": [
        {
          "output_type": "stream",
          "name": "stdout",
          "text": [
            "[0.06113914 0.05049423 0.05598949 ... 0.51544895 0.51306422 0.51475772]\n"
          ]
        },
        {
          "output_type": "execute_result",
          "data": {
            "text/plain": [
              "(217329,)"
            ]
          },
          "metadata": {},
          "execution_count": 114
        }
      ]
    },
    {
      "cell_type": "code",
      "source": [
        "data_.head()"
      ],
      "metadata": {
        "colab": {
          "base_uri": "https://localhost:8080/",
          "height": 237
        },
        "id": "AWs0WGHjYO8G",
        "outputId": "ff9e65b5-652c-498b-dd5e-ceeeaa8cb3ab"
      },
      "execution_count": null,
      "outputs": [
        {
          "output_type": "execute_result",
          "data": {
            "text/plain": [
              "         pressure_predictor1  strain_predictor2  force_prediction\n",
              "0                                                                \n",
              "2251.06             0.006512           0.981476          0.061139\n",
              "2251.07             0.004651           0.980198          0.050494\n",
              "2251.08             0.007442           0.983392          0.055989\n",
              "2251.09             0.006047           0.979879          0.057718\n",
              "2251.10             0.003721           0.979240          0.055298"
            ],
            "text/html": [
              "\n",
              "  <div id=\"df-b0a95ec2-3233-4d30-b5fe-f38179ee6b55\" class=\"colab-df-container\">\n",
              "    <div>\n",
              "<style scoped>\n",
              "    .dataframe tbody tr th:only-of-type {\n",
              "        vertical-align: middle;\n",
              "    }\n",
              "\n",
              "    .dataframe tbody tr th {\n",
              "        vertical-align: top;\n",
              "    }\n",
              "\n",
              "    .dataframe thead th {\n",
              "        text-align: right;\n",
              "    }\n",
              "</style>\n",
              "<table border=\"1\" class=\"dataframe\">\n",
              "  <thead>\n",
              "    <tr style=\"text-align: right;\">\n",
              "      <th></th>\n",
              "      <th>pressure_predictor1</th>\n",
              "      <th>strain_predictor2</th>\n",
              "      <th>force_prediction</th>\n",
              "    </tr>\n",
              "    <tr>\n",
              "      <th>0</th>\n",
              "      <th></th>\n",
              "      <th></th>\n",
              "      <th></th>\n",
              "    </tr>\n",
              "  </thead>\n",
              "  <tbody>\n",
              "    <tr>\n",
              "      <th>2251.06</th>\n",
              "      <td>0.006512</td>\n",
              "      <td>0.981476</td>\n",
              "      <td>0.061139</td>\n",
              "    </tr>\n",
              "    <tr>\n",
              "      <th>2251.07</th>\n",
              "      <td>0.004651</td>\n",
              "      <td>0.980198</td>\n",
              "      <td>0.050494</td>\n",
              "    </tr>\n",
              "    <tr>\n",
              "      <th>2251.08</th>\n",
              "      <td>0.007442</td>\n",
              "      <td>0.983392</td>\n",
              "      <td>0.055989</td>\n",
              "    </tr>\n",
              "    <tr>\n",
              "      <th>2251.09</th>\n",
              "      <td>0.006047</td>\n",
              "      <td>0.979879</td>\n",
              "      <td>0.057718</td>\n",
              "    </tr>\n",
              "    <tr>\n",
              "      <th>2251.10</th>\n",
              "      <td>0.003721</td>\n",
              "      <td>0.979240</td>\n",
              "      <td>0.055298</td>\n",
              "    </tr>\n",
              "  </tbody>\n",
              "</table>\n",
              "</div>\n",
              "    <div class=\"colab-df-buttons\">\n",
              "\n",
              "  <div class=\"colab-df-container\">\n",
              "    <button class=\"colab-df-convert\" onclick=\"convertToInteractive('df-b0a95ec2-3233-4d30-b5fe-f38179ee6b55')\"\n",
              "            title=\"Convert this dataframe to an interactive table.\"\n",
              "            style=\"display:none;\">\n",
              "\n",
              "  <svg xmlns=\"http://www.w3.org/2000/svg\" height=\"24px\" viewBox=\"0 -960 960 960\">\n",
              "    <path d=\"M120-120v-720h720v720H120Zm60-500h600v-160H180v160Zm220 220h160v-160H400v160Zm0 220h160v-160H400v160ZM180-400h160v-160H180v160Zm440 0h160v-160H620v160ZM180-180h160v-160H180v160Zm440 0h160v-160H620v160Z\"/>\n",
              "  </svg>\n",
              "    </button>\n",
              "\n",
              "  <style>\n",
              "    .colab-df-container {\n",
              "      display:flex;\n",
              "      gap: 12px;\n",
              "    }\n",
              "\n",
              "    .colab-df-convert {\n",
              "      background-color: #E8F0FE;\n",
              "      border: none;\n",
              "      border-radius: 50%;\n",
              "      cursor: pointer;\n",
              "      display: none;\n",
              "      fill: #1967D2;\n",
              "      height: 32px;\n",
              "      padding: 0 0 0 0;\n",
              "      width: 32px;\n",
              "    }\n",
              "\n",
              "    .colab-df-convert:hover {\n",
              "      background-color: #E2EBFA;\n",
              "      box-shadow: 0px 1px 2px rgba(60, 64, 67, 0.3), 0px 1px 3px 1px rgba(60, 64, 67, 0.15);\n",
              "      fill: #174EA6;\n",
              "    }\n",
              "\n",
              "    .colab-df-buttons div {\n",
              "      margin-bottom: 4px;\n",
              "    }\n",
              "\n",
              "    [theme=dark] .colab-df-convert {\n",
              "      background-color: #3B4455;\n",
              "      fill: #D2E3FC;\n",
              "    }\n",
              "\n",
              "    [theme=dark] .colab-df-convert:hover {\n",
              "      background-color: #434B5C;\n",
              "      box-shadow: 0px 1px 3px 1px rgba(0, 0, 0, 0.15);\n",
              "      filter: drop-shadow(0px 1px 2px rgba(0, 0, 0, 0.3));\n",
              "      fill: #FFFFFF;\n",
              "    }\n",
              "  </style>\n",
              "\n",
              "    <script>\n",
              "      const buttonEl =\n",
              "        document.querySelector('#df-b0a95ec2-3233-4d30-b5fe-f38179ee6b55 button.colab-df-convert');\n",
              "      buttonEl.style.display =\n",
              "        google.colab.kernel.accessAllowed ? 'block' : 'none';\n",
              "\n",
              "      async function convertToInteractive(key) {\n",
              "        const element = document.querySelector('#df-b0a95ec2-3233-4d30-b5fe-f38179ee6b55');\n",
              "        const dataTable =\n",
              "          await google.colab.kernel.invokeFunction('convertToInteractive',\n",
              "                                                    [key], {});\n",
              "        if (!dataTable) return;\n",
              "\n",
              "        const docLinkHtml = 'Like what you see? Visit the ' +\n",
              "          '<a target=\"_blank\" href=https://colab.research.google.com/notebooks/data_table.ipynb>data table notebook</a>'\n",
              "          + ' to learn more about interactive tables.';\n",
              "        element.innerHTML = '';\n",
              "        dataTable['output_type'] = 'display_data';\n",
              "        await google.colab.output.renderOutput(dataTable, element);\n",
              "        const docLink = document.createElement('div');\n",
              "        docLink.innerHTML = docLinkHtml;\n",
              "        element.appendChild(docLink);\n",
              "      }\n",
              "    </script>\n",
              "  </div>\n",
              "\n",
              "\n",
              "    <div id=\"df-1ee6a645-67e6-4355-a80e-3627744b8520\">\n",
              "      <button class=\"colab-df-quickchart\" onclick=\"quickchart('df-1ee6a645-67e6-4355-a80e-3627744b8520')\"\n",
              "                title=\"Suggest charts\"\n",
              "                style=\"display:none;\">\n",
              "\n",
              "<svg xmlns=\"http://www.w3.org/2000/svg\" height=\"24px\"viewBox=\"0 0 24 24\"\n",
              "     width=\"24px\">\n",
              "    <g>\n",
              "        <path d=\"M19 3H5c-1.1 0-2 .9-2 2v14c0 1.1.9 2 2 2h14c1.1 0 2-.9 2-2V5c0-1.1-.9-2-2-2zM9 17H7v-7h2v7zm4 0h-2V7h2v10zm4 0h-2v-4h2v4z\"/>\n",
              "    </g>\n",
              "</svg>\n",
              "      </button>\n",
              "\n",
              "<style>\n",
              "  .colab-df-quickchart {\n",
              "      --bg-color: #E8F0FE;\n",
              "      --fill-color: #1967D2;\n",
              "      --hover-bg-color: #E2EBFA;\n",
              "      --hover-fill-color: #174EA6;\n",
              "      --disabled-fill-color: #AAA;\n",
              "      --disabled-bg-color: #DDD;\n",
              "  }\n",
              "\n",
              "  [theme=dark] .colab-df-quickchart {\n",
              "      --bg-color: #3B4455;\n",
              "      --fill-color: #D2E3FC;\n",
              "      --hover-bg-color: #434B5C;\n",
              "      --hover-fill-color: #FFFFFF;\n",
              "      --disabled-bg-color: #3B4455;\n",
              "      --disabled-fill-color: #666;\n",
              "  }\n",
              "\n",
              "  .colab-df-quickchart {\n",
              "    background-color: var(--bg-color);\n",
              "    border: none;\n",
              "    border-radius: 50%;\n",
              "    cursor: pointer;\n",
              "    display: none;\n",
              "    fill: var(--fill-color);\n",
              "    height: 32px;\n",
              "    padding: 0;\n",
              "    width: 32px;\n",
              "  }\n",
              "\n",
              "  .colab-df-quickchart:hover {\n",
              "    background-color: var(--hover-bg-color);\n",
              "    box-shadow: 0 1px 2px rgba(60, 64, 67, 0.3), 0 1px 3px 1px rgba(60, 64, 67, 0.15);\n",
              "    fill: var(--button-hover-fill-color);\n",
              "  }\n",
              "\n",
              "  .colab-df-quickchart-complete:disabled,\n",
              "  .colab-df-quickchart-complete:disabled:hover {\n",
              "    background-color: var(--disabled-bg-color);\n",
              "    fill: var(--disabled-fill-color);\n",
              "    box-shadow: none;\n",
              "  }\n",
              "\n",
              "  .colab-df-spinner {\n",
              "    border: 2px solid var(--fill-color);\n",
              "    border-color: transparent;\n",
              "    border-bottom-color: var(--fill-color);\n",
              "    animation:\n",
              "      spin 1s steps(1) infinite;\n",
              "  }\n",
              "\n",
              "  @keyframes spin {\n",
              "    0% {\n",
              "      border-color: transparent;\n",
              "      border-bottom-color: var(--fill-color);\n",
              "      border-left-color: var(--fill-color);\n",
              "    }\n",
              "    20% {\n",
              "      border-color: transparent;\n",
              "      border-left-color: var(--fill-color);\n",
              "      border-top-color: var(--fill-color);\n",
              "    }\n",
              "    30% {\n",
              "      border-color: transparent;\n",
              "      border-left-color: var(--fill-color);\n",
              "      border-top-color: var(--fill-color);\n",
              "      border-right-color: var(--fill-color);\n",
              "    }\n",
              "    40% {\n",
              "      border-color: transparent;\n",
              "      border-right-color: var(--fill-color);\n",
              "      border-top-color: var(--fill-color);\n",
              "    }\n",
              "    60% {\n",
              "      border-color: transparent;\n",
              "      border-right-color: var(--fill-color);\n",
              "    }\n",
              "    80% {\n",
              "      border-color: transparent;\n",
              "      border-right-color: var(--fill-color);\n",
              "      border-bottom-color: var(--fill-color);\n",
              "    }\n",
              "    90% {\n",
              "      border-color: transparent;\n",
              "      border-bottom-color: var(--fill-color);\n",
              "    }\n",
              "  }\n",
              "</style>\n",
              "\n",
              "      <script>\n",
              "        async function quickchart(key) {\n",
              "          const quickchartButtonEl =\n",
              "            document.querySelector('#' + key + ' button');\n",
              "          quickchartButtonEl.disabled = true;  // To prevent multiple clicks.\n",
              "          quickchartButtonEl.classList.add('colab-df-spinner');\n",
              "          try {\n",
              "            const charts = await google.colab.kernel.invokeFunction(\n",
              "                'suggestCharts', [key], {});\n",
              "          } catch (error) {\n",
              "            console.error('Error during call to suggestCharts:', error);\n",
              "          }\n",
              "          quickchartButtonEl.classList.remove('colab-df-spinner');\n",
              "          quickchartButtonEl.classList.add('colab-df-quickchart-complete');\n",
              "        }\n",
              "        (() => {\n",
              "          let quickchartButtonEl =\n",
              "            document.querySelector('#df-1ee6a645-67e6-4355-a80e-3627744b8520 button');\n",
              "          quickchartButtonEl.style.display =\n",
              "            google.colab.kernel.accessAllowed ? 'block' : 'none';\n",
              "        })();\n",
              "      </script>\n",
              "    </div>\n",
              "\n",
              "    </div>\n",
              "  </div>\n"
            ],
            "application/vnd.google.colaboratory.intrinsic+json": {
              "type": "dataframe",
              "variable_name": "data_"
            }
          },
          "metadata": {},
          "execution_count": 10
        }
      ]
    },
    {
      "cell_type": "code",
      "source": [
        "type(data)"
      ],
      "metadata": {
        "colab": {
          "base_uri": "https://localhost:8080/",
          "height": 204
        },
        "id": "8Yz06z2_YVLs",
        "outputId": "97f4adda-eef5-407d-957b-306ffbf3e254"
      },
      "execution_count": null,
      "outputs": [
        {
          "output_type": "execute_result",
          "data": {
            "text/plain": [
              "pandas.core.frame.DataFrame"
            ],
            "text/html": [
              "<div style=\"max-width:800px; border: 1px solid var(--colab-border-color);\"><style>\n",
              "      pre.function-repr-contents {\n",
              "        overflow-x: auto;\n",
              "        padding: 8px 12px;\n",
              "        max-height: 500px;\n",
              "      }\n",
              "\n",
              "      pre.function-repr-contents.function-repr-contents-collapsed {\n",
              "        cursor: pointer;\n",
              "        max-height: 100px;\n",
              "      }\n",
              "    </style>\n",
              "    <pre style=\"white-space: initial; background:\n",
              "         var(--colab-secondary-surface-color); padding: 8px 12px;\n",
              "         border-bottom: 1px solid var(--colab-border-color);\"><b>pandas.core.frame.DataFrame</b><br/>def __init__(data=None, index: Axes | None=None, columns: Axes | None=None, dtype: Dtype | None=None, copy: bool | None=None) -&gt; None</pre><pre class=\"function-repr-contents function-repr-contents-collapsed\" style=\"\"><a class=\"filepath\" style=\"display:none\" href=\"#\">/usr/local/lib/python3.11/dist-packages/pandas/core/frame.py</a>Two-dimensional, size-mutable, potentially heterogeneous tabular data.\n",
              "\n",
              "Data structure also contains labeled axes (rows and columns).\n",
              "Arithmetic operations align on both row and column labels. Can be\n",
              "thought of as a dict-like container for Series objects. The primary\n",
              "pandas data structure.\n",
              "\n",
              "Parameters\n",
              "----------\n",
              "data : ndarray (structured or homogeneous), Iterable, dict, or DataFrame\n",
              "    Dict can contain Series, arrays, constants, dataclass or list-like objects. If\n",
              "    data is a dict, column order follows insertion-order. If a dict contains Series\n",
              "    which have an index defined, it is aligned by its index. This alignment also\n",
              "    occurs if data is a Series or a DataFrame itself. Alignment is done on\n",
              "    Series/DataFrame inputs.\n",
              "\n",
              "    If data is a list of dicts, column order follows insertion-order.\n",
              "\n",
              "index : Index or array-like\n",
              "    Index to use for resulting frame. Will default to RangeIndex if\n",
              "    no indexing information part of input data and no index provided.\n",
              "columns : Index or array-like\n",
              "    Column labels to use for resulting frame when data does not have them,\n",
              "    defaulting to RangeIndex(0, 1, 2, ..., n). If data contains column labels,\n",
              "    will perform column selection instead.\n",
              "dtype : dtype, default None\n",
              "    Data type to force. Only a single dtype is allowed. If None, infer.\n",
              "copy : bool or None, default None\n",
              "    Copy data from inputs.\n",
              "    For dict data, the default of None behaves like ``copy=True``.  For DataFrame\n",
              "    or 2d ndarray input, the default of None behaves like ``copy=False``.\n",
              "    If data is a dict containing one or more Series (possibly of different dtypes),\n",
              "    ``copy=False`` will ensure that these inputs are not copied.\n",
              "\n",
              "    .. versionchanged:: 1.3.0\n",
              "\n",
              "See Also\n",
              "--------\n",
              "DataFrame.from_records : Constructor from tuples, also record arrays.\n",
              "DataFrame.from_dict : From dicts of Series, arrays, or dicts.\n",
              "read_csv : Read a comma-separated values (csv) file into DataFrame.\n",
              "read_table : Read general delimited file into DataFrame.\n",
              "read_clipboard : Read text from clipboard into DataFrame.\n",
              "\n",
              "Notes\n",
              "-----\n",
              "Please reference the :ref:`User Guide &lt;basics.dataframe&gt;` for more information.\n",
              "\n",
              "Examples\n",
              "--------\n",
              "Constructing DataFrame from a dictionary.\n",
              "\n",
              "&gt;&gt;&gt; d = {&#x27;col1&#x27;: [1, 2], &#x27;col2&#x27;: [3, 4]}\n",
              "&gt;&gt;&gt; df = pd.DataFrame(data=d)\n",
              "&gt;&gt;&gt; df\n",
              "   col1  col2\n",
              "0     1     3\n",
              "1     2     4\n",
              "\n",
              "Notice that the inferred dtype is int64.\n",
              "\n",
              "&gt;&gt;&gt; df.dtypes\n",
              "col1    int64\n",
              "col2    int64\n",
              "dtype: object\n",
              "\n",
              "To enforce a single dtype:\n",
              "\n",
              "&gt;&gt;&gt; df = pd.DataFrame(data=d, dtype=np.int8)\n",
              "&gt;&gt;&gt; df.dtypes\n",
              "col1    int8\n",
              "col2    int8\n",
              "dtype: object\n",
              "\n",
              "Constructing DataFrame from a dictionary including Series:\n",
              "\n",
              "&gt;&gt;&gt; d = {&#x27;col1&#x27;: [0, 1, 2, 3], &#x27;col2&#x27;: pd.Series([2, 3], index=[2, 3])}\n",
              "&gt;&gt;&gt; pd.DataFrame(data=d, index=[0, 1, 2, 3])\n",
              "   col1  col2\n",
              "0     0   NaN\n",
              "1     1   NaN\n",
              "2     2   2.0\n",
              "3     3   3.0\n",
              "\n",
              "Constructing DataFrame from numpy ndarray:\n",
              "\n",
              "&gt;&gt;&gt; df2 = pd.DataFrame(np.array([[1, 2, 3], [4, 5, 6], [7, 8, 9]]),\n",
              "...                    columns=[&#x27;a&#x27;, &#x27;b&#x27;, &#x27;c&#x27;])\n",
              "&gt;&gt;&gt; df2\n",
              "   a  b  c\n",
              "0  1  2  3\n",
              "1  4  5  6\n",
              "2  7  8  9\n",
              "\n",
              "Constructing DataFrame from a numpy ndarray that has labeled columns:\n",
              "\n",
              "&gt;&gt;&gt; data = np.array([(1, 2, 3), (4, 5, 6), (7, 8, 9)],\n",
              "...                 dtype=[(&quot;a&quot;, &quot;i4&quot;), (&quot;b&quot;, &quot;i4&quot;), (&quot;c&quot;, &quot;i4&quot;)])\n",
              "&gt;&gt;&gt; df3 = pd.DataFrame(data, columns=[&#x27;c&#x27;, &#x27;a&#x27;])\n",
              "...\n",
              "&gt;&gt;&gt; df3\n",
              "   c  a\n",
              "0  3  1\n",
              "1  6  4\n",
              "2  9  7\n",
              "\n",
              "Constructing DataFrame from dataclass:\n",
              "\n",
              "&gt;&gt;&gt; from dataclasses import make_dataclass\n",
              "&gt;&gt;&gt; Point = make_dataclass(&quot;Point&quot;, [(&quot;x&quot;, int), (&quot;y&quot;, int)])\n",
              "&gt;&gt;&gt; pd.DataFrame([Point(0, 0), Point(0, 3), Point(2, 3)])\n",
              "   x  y\n",
              "0  0  0\n",
              "1  0  3\n",
              "2  2  3\n",
              "\n",
              "Constructing DataFrame from Series/DataFrame:\n",
              "\n",
              "&gt;&gt;&gt; ser = pd.Series([1, 2, 3], index=[&quot;a&quot;, &quot;b&quot;, &quot;c&quot;])\n",
              "&gt;&gt;&gt; df = pd.DataFrame(data=ser, index=[&quot;a&quot;, &quot;c&quot;])\n",
              "&gt;&gt;&gt; df\n",
              "   0\n",
              "a  1\n",
              "c  3\n",
              "\n",
              "&gt;&gt;&gt; df1 = pd.DataFrame([1, 2, 3], index=[&quot;a&quot;, &quot;b&quot;, &quot;c&quot;], columns=[&quot;x&quot;])\n",
              "&gt;&gt;&gt; df2 = pd.DataFrame(data=df1, index=[&quot;a&quot;, &quot;c&quot;])\n",
              "&gt;&gt;&gt; df2\n",
              "   x\n",
              "a  1\n",
              "c  3</pre>\n",
              "      <script>\n",
              "      if (google.colab.kernel.accessAllowed && google.colab.files && google.colab.files.view) {\n",
              "        for (const element of document.querySelectorAll('.filepath')) {\n",
              "          element.style.display = 'block'\n",
              "          element.onclick = (event) => {\n",
              "            event.preventDefault();\n",
              "            event.stopPropagation();\n",
              "            google.colab.files.view(element.textContent, 509);\n",
              "          };\n",
              "        }\n",
              "      }\n",
              "      for (const element of document.querySelectorAll('.function-repr-contents')) {\n",
              "        element.onclick = (event) => {\n",
              "          event.preventDefault();\n",
              "          event.stopPropagation();\n",
              "          element.classList.toggle('function-repr-contents-collapsed');\n",
              "        };\n",
              "      }\n",
              "      </script>\n",
              "      </div>"
            ]
          },
          "metadata": {},
          "execution_count": 70
        }
      ]
    },
    {
      "cell_type": "code",
      "source": [
        "df=data_.copy()\n",
        "\n",
        "df.head(15)"
      ],
      "metadata": {
        "id": "HB4KErT5u0Gu",
        "colab": {
          "base_uri": "https://localhost:8080/",
          "height": 551
        },
        "outputId": "92675002-e5bd-4091-de83-9668f1fa0a2e"
      },
      "execution_count": null,
      "outputs": [
        {
          "output_type": "execute_result",
          "data": {
            "text/plain": [
              "         pressure_predictor1  strain_predictor2  force_prediction\n",
              "0                                                                \n",
              "2251.06             0.006512           0.981476          0.061139\n",
              "2251.07             0.004651           0.980198          0.050494\n",
              "2251.08             0.007442           0.983392          0.055989\n",
              "2251.09             0.006047           0.979879          0.057718\n",
              "2251.10             0.003721           0.979240          0.055298\n",
              "2251.11             0.001860           0.981476          0.052879\n",
              "2251.12             0.004186           0.989780          0.060448\n",
              "2251.13             0.004186           0.984989          0.053570\n",
              "2251.14             0.002326           0.976685          0.058720\n",
              "2251.15             0.003256           0.981476          0.047729\n",
              "2251.16             0.002326           0.986266          0.058374\n",
              "2251.17             0.002791           0.980837          0.054607\n",
              "2251.18             0.002791           0.990738          0.062176\n",
              "2251.19             0.006047           0.988821          0.058374\n",
              "2251.20             0.001395           0.983073          0.063869"
            ],
            "text/html": [
              "\n",
              "  <div id=\"df-a4a31b99-6aa7-4114-a06a-67dc362230ff\" class=\"colab-df-container\">\n",
              "    <div>\n",
              "<style scoped>\n",
              "    .dataframe tbody tr th:only-of-type {\n",
              "        vertical-align: middle;\n",
              "    }\n",
              "\n",
              "    .dataframe tbody tr th {\n",
              "        vertical-align: top;\n",
              "    }\n",
              "\n",
              "    .dataframe thead th {\n",
              "        text-align: right;\n",
              "    }\n",
              "</style>\n",
              "<table border=\"1\" class=\"dataframe\">\n",
              "  <thead>\n",
              "    <tr style=\"text-align: right;\">\n",
              "      <th></th>\n",
              "      <th>pressure_predictor1</th>\n",
              "      <th>strain_predictor2</th>\n",
              "      <th>force_prediction</th>\n",
              "    </tr>\n",
              "    <tr>\n",
              "      <th>0</th>\n",
              "      <th></th>\n",
              "      <th></th>\n",
              "      <th></th>\n",
              "    </tr>\n",
              "  </thead>\n",
              "  <tbody>\n",
              "    <tr>\n",
              "      <th>2251.06</th>\n",
              "      <td>0.006512</td>\n",
              "      <td>0.981476</td>\n",
              "      <td>0.061139</td>\n",
              "    </tr>\n",
              "    <tr>\n",
              "      <th>2251.07</th>\n",
              "      <td>0.004651</td>\n",
              "      <td>0.980198</td>\n",
              "      <td>0.050494</td>\n",
              "    </tr>\n",
              "    <tr>\n",
              "      <th>2251.08</th>\n",
              "      <td>0.007442</td>\n",
              "      <td>0.983392</td>\n",
              "      <td>0.055989</td>\n",
              "    </tr>\n",
              "    <tr>\n",
              "      <th>2251.09</th>\n",
              "      <td>0.006047</td>\n",
              "      <td>0.979879</td>\n",
              "      <td>0.057718</td>\n",
              "    </tr>\n",
              "    <tr>\n",
              "      <th>2251.10</th>\n",
              "      <td>0.003721</td>\n",
              "      <td>0.979240</td>\n",
              "      <td>0.055298</td>\n",
              "    </tr>\n",
              "    <tr>\n",
              "      <th>2251.11</th>\n",
              "      <td>0.001860</td>\n",
              "      <td>0.981476</td>\n",
              "      <td>0.052879</td>\n",
              "    </tr>\n",
              "    <tr>\n",
              "      <th>2251.12</th>\n",
              "      <td>0.004186</td>\n",
              "      <td>0.989780</td>\n",
              "      <td>0.060448</td>\n",
              "    </tr>\n",
              "    <tr>\n",
              "      <th>2251.13</th>\n",
              "      <td>0.004186</td>\n",
              "      <td>0.984989</td>\n",
              "      <td>0.053570</td>\n",
              "    </tr>\n",
              "    <tr>\n",
              "      <th>2251.14</th>\n",
              "      <td>0.002326</td>\n",
              "      <td>0.976685</td>\n",
              "      <td>0.058720</td>\n",
              "    </tr>\n",
              "    <tr>\n",
              "      <th>2251.15</th>\n",
              "      <td>0.003256</td>\n",
              "      <td>0.981476</td>\n",
              "      <td>0.047729</td>\n",
              "    </tr>\n",
              "    <tr>\n",
              "      <th>2251.16</th>\n",
              "      <td>0.002326</td>\n",
              "      <td>0.986266</td>\n",
              "      <td>0.058374</td>\n",
              "    </tr>\n",
              "    <tr>\n",
              "      <th>2251.17</th>\n",
              "      <td>0.002791</td>\n",
              "      <td>0.980837</td>\n",
              "      <td>0.054607</td>\n",
              "    </tr>\n",
              "    <tr>\n",
              "      <th>2251.18</th>\n",
              "      <td>0.002791</td>\n",
              "      <td>0.990738</td>\n",
              "      <td>0.062176</td>\n",
              "    </tr>\n",
              "    <tr>\n",
              "      <th>2251.19</th>\n",
              "      <td>0.006047</td>\n",
              "      <td>0.988821</td>\n",
              "      <td>0.058374</td>\n",
              "    </tr>\n",
              "    <tr>\n",
              "      <th>2251.20</th>\n",
              "      <td>0.001395</td>\n",
              "      <td>0.983073</td>\n",
              "      <td>0.063869</td>\n",
              "    </tr>\n",
              "  </tbody>\n",
              "</table>\n",
              "</div>\n",
              "    <div class=\"colab-df-buttons\">\n",
              "\n",
              "  <div class=\"colab-df-container\">\n",
              "    <button class=\"colab-df-convert\" onclick=\"convertToInteractive('df-a4a31b99-6aa7-4114-a06a-67dc362230ff')\"\n",
              "            title=\"Convert this dataframe to an interactive table.\"\n",
              "            style=\"display:none;\">\n",
              "\n",
              "  <svg xmlns=\"http://www.w3.org/2000/svg\" height=\"24px\" viewBox=\"0 -960 960 960\">\n",
              "    <path d=\"M120-120v-720h720v720H120Zm60-500h600v-160H180v160Zm220 220h160v-160H400v160Zm0 220h160v-160H400v160ZM180-400h160v-160H180v160Zm440 0h160v-160H620v160ZM180-180h160v-160H180v160Zm440 0h160v-160H620v160Z\"/>\n",
              "  </svg>\n",
              "    </button>\n",
              "\n",
              "  <style>\n",
              "    .colab-df-container {\n",
              "      display:flex;\n",
              "      gap: 12px;\n",
              "    }\n",
              "\n",
              "    .colab-df-convert {\n",
              "      background-color: #E8F0FE;\n",
              "      border: none;\n",
              "      border-radius: 50%;\n",
              "      cursor: pointer;\n",
              "      display: none;\n",
              "      fill: #1967D2;\n",
              "      height: 32px;\n",
              "      padding: 0 0 0 0;\n",
              "      width: 32px;\n",
              "    }\n",
              "\n",
              "    .colab-df-convert:hover {\n",
              "      background-color: #E2EBFA;\n",
              "      box-shadow: 0px 1px 2px rgba(60, 64, 67, 0.3), 0px 1px 3px 1px rgba(60, 64, 67, 0.15);\n",
              "      fill: #174EA6;\n",
              "    }\n",
              "\n",
              "    .colab-df-buttons div {\n",
              "      margin-bottom: 4px;\n",
              "    }\n",
              "\n",
              "    [theme=dark] .colab-df-convert {\n",
              "      background-color: #3B4455;\n",
              "      fill: #D2E3FC;\n",
              "    }\n",
              "\n",
              "    [theme=dark] .colab-df-convert:hover {\n",
              "      background-color: #434B5C;\n",
              "      box-shadow: 0px 1px 3px 1px rgba(0, 0, 0, 0.15);\n",
              "      filter: drop-shadow(0px 1px 2px rgba(0, 0, 0, 0.3));\n",
              "      fill: #FFFFFF;\n",
              "    }\n",
              "  </style>\n",
              "\n",
              "    <script>\n",
              "      const buttonEl =\n",
              "        document.querySelector('#df-a4a31b99-6aa7-4114-a06a-67dc362230ff button.colab-df-convert');\n",
              "      buttonEl.style.display =\n",
              "        google.colab.kernel.accessAllowed ? 'block' : 'none';\n",
              "\n",
              "      async function convertToInteractive(key) {\n",
              "        const element = document.querySelector('#df-a4a31b99-6aa7-4114-a06a-67dc362230ff');\n",
              "        const dataTable =\n",
              "          await google.colab.kernel.invokeFunction('convertToInteractive',\n",
              "                                                    [key], {});\n",
              "        if (!dataTable) return;\n",
              "\n",
              "        const docLinkHtml = 'Like what you see? Visit the ' +\n",
              "          '<a target=\"_blank\" href=https://colab.research.google.com/notebooks/data_table.ipynb>data table notebook</a>'\n",
              "          + ' to learn more about interactive tables.';\n",
              "        element.innerHTML = '';\n",
              "        dataTable['output_type'] = 'display_data';\n",
              "        await google.colab.output.renderOutput(dataTable, element);\n",
              "        const docLink = document.createElement('div');\n",
              "        docLink.innerHTML = docLinkHtml;\n",
              "        element.appendChild(docLink);\n",
              "      }\n",
              "    </script>\n",
              "  </div>\n",
              "\n",
              "\n",
              "    <div id=\"df-e041b366-4a82-4fb5-bc26-e4194b85c6e9\">\n",
              "      <button class=\"colab-df-quickchart\" onclick=\"quickchart('df-e041b366-4a82-4fb5-bc26-e4194b85c6e9')\"\n",
              "                title=\"Suggest charts\"\n",
              "                style=\"display:none;\">\n",
              "\n",
              "<svg xmlns=\"http://www.w3.org/2000/svg\" height=\"24px\"viewBox=\"0 0 24 24\"\n",
              "     width=\"24px\">\n",
              "    <g>\n",
              "        <path d=\"M19 3H5c-1.1 0-2 .9-2 2v14c0 1.1.9 2 2 2h14c1.1 0 2-.9 2-2V5c0-1.1-.9-2-2-2zM9 17H7v-7h2v7zm4 0h-2V7h2v10zm4 0h-2v-4h2v4z\"/>\n",
              "    </g>\n",
              "</svg>\n",
              "      </button>\n",
              "\n",
              "<style>\n",
              "  .colab-df-quickchart {\n",
              "      --bg-color: #E8F0FE;\n",
              "      --fill-color: #1967D2;\n",
              "      --hover-bg-color: #E2EBFA;\n",
              "      --hover-fill-color: #174EA6;\n",
              "      --disabled-fill-color: #AAA;\n",
              "      --disabled-bg-color: #DDD;\n",
              "  }\n",
              "\n",
              "  [theme=dark] .colab-df-quickchart {\n",
              "      --bg-color: #3B4455;\n",
              "      --fill-color: #D2E3FC;\n",
              "      --hover-bg-color: #434B5C;\n",
              "      --hover-fill-color: #FFFFFF;\n",
              "      --disabled-bg-color: #3B4455;\n",
              "      --disabled-fill-color: #666;\n",
              "  }\n",
              "\n",
              "  .colab-df-quickchart {\n",
              "    background-color: var(--bg-color);\n",
              "    border: none;\n",
              "    border-radius: 50%;\n",
              "    cursor: pointer;\n",
              "    display: none;\n",
              "    fill: var(--fill-color);\n",
              "    height: 32px;\n",
              "    padding: 0;\n",
              "    width: 32px;\n",
              "  }\n",
              "\n",
              "  .colab-df-quickchart:hover {\n",
              "    background-color: var(--hover-bg-color);\n",
              "    box-shadow: 0 1px 2px rgba(60, 64, 67, 0.3), 0 1px 3px 1px rgba(60, 64, 67, 0.15);\n",
              "    fill: var(--button-hover-fill-color);\n",
              "  }\n",
              "\n",
              "  .colab-df-quickchart-complete:disabled,\n",
              "  .colab-df-quickchart-complete:disabled:hover {\n",
              "    background-color: var(--disabled-bg-color);\n",
              "    fill: var(--disabled-fill-color);\n",
              "    box-shadow: none;\n",
              "  }\n",
              "\n",
              "  .colab-df-spinner {\n",
              "    border: 2px solid var(--fill-color);\n",
              "    border-color: transparent;\n",
              "    border-bottom-color: var(--fill-color);\n",
              "    animation:\n",
              "      spin 1s steps(1) infinite;\n",
              "  }\n",
              "\n",
              "  @keyframes spin {\n",
              "    0% {\n",
              "      border-color: transparent;\n",
              "      border-bottom-color: var(--fill-color);\n",
              "      border-left-color: var(--fill-color);\n",
              "    }\n",
              "    20% {\n",
              "      border-color: transparent;\n",
              "      border-left-color: var(--fill-color);\n",
              "      border-top-color: var(--fill-color);\n",
              "    }\n",
              "    30% {\n",
              "      border-color: transparent;\n",
              "      border-left-color: var(--fill-color);\n",
              "      border-top-color: var(--fill-color);\n",
              "      border-right-color: var(--fill-color);\n",
              "    }\n",
              "    40% {\n",
              "      border-color: transparent;\n",
              "      border-right-color: var(--fill-color);\n",
              "      border-top-color: var(--fill-color);\n",
              "    }\n",
              "    60% {\n",
              "      border-color: transparent;\n",
              "      border-right-color: var(--fill-color);\n",
              "    }\n",
              "    80% {\n",
              "      border-color: transparent;\n",
              "      border-right-color: var(--fill-color);\n",
              "      border-bottom-color: var(--fill-color);\n",
              "    }\n",
              "    90% {\n",
              "      border-color: transparent;\n",
              "      border-bottom-color: var(--fill-color);\n",
              "    }\n",
              "  }\n",
              "</style>\n",
              "\n",
              "      <script>\n",
              "        async function quickchart(key) {\n",
              "          const quickchartButtonEl =\n",
              "            document.querySelector('#' + key + ' button');\n",
              "          quickchartButtonEl.disabled = true;  // To prevent multiple clicks.\n",
              "          quickchartButtonEl.classList.add('colab-df-spinner');\n",
              "          try {\n",
              "            const charts = await google.colab.kernel.invokeFunction(\n",
              "                'suggestCharts', [key], {});\n",
              "          } catch (error) {\n",
              "            console.error('Error during call to suggestCharts:', error);\n",
              "          }\n",
              "          quickchartButtonEl.classList.remove('colab-df-spinner');\n",
              "          quickchartButtonEl.classList.add('colab-df-quickchart-complete');\n",
              "        }\n",
              "        (() => {\n",
              "          let quickchartButtonEl =\n",
              "            document.querySelector('#df-e041b366-4a82-4fb5-bc26-e4194b85c6e9 button');\n",
              "          quickchartButtonEl.style.display =\n",
              "            google.colab.kernel.accessAllowed ? 'block' : 'none';\n",
              "        })();\n",
              "      </script>\n",
              "    </div>\n",
              "\n",
              "    </div>\n",
              "  </div>\n"
            ],
            "application/vnd.google.colaboratory.intrinsic+json": {
              "type": "dataframe",
              "variable_name": "df"
            }
          },
          "metadata": {},
          "execution_count": 10
        }
      ]
    },
    {
      "cell_type": "code",
      "source": [
        "import pandas as pd\n",
        "import matplotlib.pyplot as plt\n",
        "\n",
        "# Assuming your DataFrame is 'df' with a float index\n",
        "# and a 'pressure_predictor1' column\n",
        "\n",
        "fig, ax1 = plt.subplots(figsize=(10, 6))\n",
        "start_time = 2800\n",
        "end_time = 3000\n",
        "\n",
        "color = 'tab:blue'\n",
        "ax1.set_xlabel('Original Time Index')\n",
        "ax1.set_ylabel('Pressure', color=color)\n",
        "ax1.plot(df.index, df['pressure_predictor1'], color=color)\n",
        "ax1.set_xlim(start_time, end_time)\n",
        "ax1.tick_params(axis='y', labelcolor=color)\n",
        "ax1.grid(True)\n",
        "\n",
        "# Create a secondary x-axis\n",
        "ax2 = ax1.twiny()\n",
        "\n",
        "# Get the new integer index range corresponding to the zoomed time range\n",
        "start_index = df.index[df.index >= start_time].min()\n",
        "end_index = df.index[df.index <= end_time].max()\n",
        "\n",
        "start_loc = df.index.get_loc(start_index)\n",
        "end_loc = df.index.get_loc(end_index)\n",
        "\n",
        "# Set the limits of the secondary x-axis to match the zoomed integer index range\n",
        "ax2.set_xlim(start_loc, end_loc)\n",
        "ax2.set_xlabel('Integer Index (Zoomed)')\n",
        "ax2.tick_params(axis='x')\n",
        "\n",
        "# Adjust the tick locations and labels for ax2 to be more meaningful\n",
        "integer_ticks = range(start_loc, end_loc + 1, max(1, (end_loc - start_loc) // 5)) # Adjust step as needed\n",
        "ax2.set_xticks(integer_ticks)\n",
        "\n",
        "plt.title('Pressure vs. Original Time Index with Zoomed Integer Index')\n",
        "plt.tight_layout()\n",
        "plt.show()"
      ],
      "metadata": {
        "colab": {
          "base_uri": "https://localhost:8080/",
          "height": 606
        },
        "id": "uuedhmoUTJN0",
        "outputId": "240245e8-6a32-4e9e-d0cf-e2ae9e6f0ea7"
      },
      "execution_count": null,
      "outputs": [
        {
          "output_type": "display_data",
          "data": {
            "text/plain": [
              "<Figure size 1000x600 with 2 Axes>"
            ],
            "image/png": "[encoded data removed]"
          },
          "metadata": {}
        }
      ]
    },
    {
      "cell_type": "code",
      "source": [
        "plt.figure(figsize=(12, 12))\n",
        "plt.subplot(3,1,1)  # means we fix the graph in these 3 rows and 1 column of the whole graph of 12,12,, and the 1 is the nth no ...\n",
        "plt.plot(df.index,df[\"strain_predictor2\"],label=\"Strain\",color=\"red\")\n",
        "plt.title(\"Strain Over Time\")\n",
        "plt.xlabel(\"Time\")\n",
        "plt.ylabel(\"Strain Value\")\n",
        "plt.legend()\n",
        "plt.grid(True)\n"
      ],
      "metadata": {
        "colab": {
          "base_uri": "https://localhost:8080/",
          "height": 305
        },
        "id": "N9amZc9_TotK",
        "outputId": "46d53766-fdbf-4d6f-e7ee-c267c2ec9287"
      },
      "execution_count": null,
      "outputs": [
        {
          "output_type": "display_data",
          "data": {
            "text/plain": [
              "<Figure size 1200x1200 with 1 Axes>"
            ],
            "image/png": "[encoded data removed]"
          },
          "metadata": {}
        }
      ]
    },
    {
      "cell_type": "code",
      "source": [
        "plt.figure(figsize=(12,12))\n",
        "plt.subplot(3,1,1)\n",
        "start_time=3300\n",
        "end_time=3500\n",
        "plt.plot(df.index,df[\"force_prediction\"],label=\"Force\",color=\"green\")\n",
        "plt.title(f\"Force Over Time (Zoomed: {start_time} to {end_time})\")\n",
        "plt.xlabel(\"Time\")\n",
        "plt.ylabel(\"Force Value\")\n",
        "plt.legend()\n",
        "plt.grid(True)\n",
        "plt.xlim(start_time, end_time)\n"
      ],
      "metadata": {
        "colab": {
          "base_uri": "https://localhost:8080/",
          "height": 317
        },
        "id": "nJR5sVHuUKef",
        "outputId": "ba71c276-8cbe-4cc0-bd3e-35f78a5f1bbe"
      },
      "execution_count": null,
      "outputs": [
        {
          "output_type": "execute_result",
          "data": {
            "text/plain": [
              "(3300.0, 3500.0)"
            ]
          },
          "metadata": {},
          "execution_count": 74
        },
        {
          "output_type": "display_data",
          "data": {
            "text/plain": [
              "<Figure size 1200x1200 with 1 Axes>"
            ],
            "image/png": "[encoded data removed]"
          },
          "metadata": {}
        }
      ]
    },
    {
      "cell_type": "code",
      "source": [
        "\"\"\"df_2=df.copy()\n",
        "df_2=df.reset_index(drop=True)\n",
        "df_2.head()\"\"\""
      ],
      "metadata": {
        "colab": {
          "base_uri": "https://localhost:8080/",
          "height": 35
        },
        "id": "nqKWipFZBlfK",
        "outputId": "095a908f-3bbb-4de7-d77c-d9a9029cdf3f"
      },
      "execution_count": null,
      "outputs": [
        {
          "output_type": "execute_result",
          "data": {
            "text/plain": [
              "'df_2=df.copy()\\ndf_2=df.reset_index(drop=True)\\ndf_2.head()'"
            ],
            "application/vnd.google.colaboratory.intrinsic+json": {
              "type": "string"
            }
          },
          "metadata": {},
          "execution_count": 182
        }
      ]
    },
    {
      "cell_type": "code",
      "source": [
        "\"\"\"plt.figure(figsize=(12, 12))\n",
        "plt.subplot(3,1,1)  # means we fix the graph in these 3 rows and 1 column of the whole graph of 12,12,, and the 1 is the nth no ...\n",
        "plt.plot(df_2.index,df[\"strain_predictor2\"],label=\"Strain\",color=\"red\")\n",
        "plt.title(\"Strain Over Time\")\n",
        "plt.xlabel(\"Time\")\n",
        "plt.ylabel(\"Strain Value\")\n",
        "plt.legend()\n",
        "plt.grid(True)\"\"\"\n"
      ],
      "metadata": {
        "colab": {
          "base_uri": "https://localhost:8080/",
          "height": 105
        },
        "id": "mUYOsfXCB3w5",
        "outputId": "93330407-a8e7-4e8e-a56e-029999187574"
      },
      "execution_count": null,
      "outputs": [
        {
          "output_type": "execute_result",
          "data": {
            "text/plain": [
              "'plt.figure(figsize=(12, 12))\\nplt.subplot(3,1,1)  # means we fix the graph in these 3 rows and 1 column of the whole graph of 12,12,, and the 1 is the nth no ...\\nplt.plot(df_2.index,df[\"strain_predictor2\"],label=\"Strain\",color=\"red\")\\nplt.title(\"Strain Over Time\")\\nplt.xlabel(\"Time\")\\nplt.ylabel(\"Strain Value\")\\nplt.legend()\\nplt.grid(True)'"
            ],
            "application/vnd.google.colaboratory.intrinsic+json": {
              "type": "string"
            }
          },
          "metadata": {},
          "execution_count": 181
        }
      ]
    },
    {
      "cell_type": "markdown",
      "source": [],
      "metadata": {
        "id": "HkCdIGY3MD2q"
      }
    },
    {
      "cell_type": "code",
      "source": [
        "# converting dataframe to numpy array..for working on lstm,,\n",
        "\n",
        "dn=data_[[\"pressure_predictor1\",\"strain_predictor2\",\"force_prediction\"]].values\n",
        "\n",
        "\"\"\"dn1=dn[0:50,:]\n",
        "dn2=dn[50:100,:]\n",
        "print(dn2)\"\"\""
      ],
      "metadata": {
        "colab": {
          "base_uri": "https://localhost:8080/",
          "height": 35
        },
        "id": "eJYsaCydIL80",
        "outputId": "735b7fd2-7da6-48a0-8a51-036674625ffa"
      },
      "execution_count": 18,
      "outputs": [
        {
          "output_type": "execute_result",
          "data": {
            "text/plain": [
              "'dn1=dn[0:50,:]\\ndn2=dn[50:100,:]\\nprint(dn2)'"
            ],
            "application/vnd.google.colaboratory.intrinsic+json": {
              "type": "string"
            }
          },
          "metadata": {},
          "execution_count": 18
        }
      ]
    },
    {
      "cell_type": "code",
      "source": [
        "print(dn)"
      ],
      "metadata": {
        "colab": {
          "base_uri": "https://localhost:8080/"
        },
        "id": "L6H6-S8JMo6D",
        "outputId": "f1dd37c1-d420-4d36-ce2f-3329eba55a08"
      },
      "execution_count": 19,
      "outputs": [
        {
          "output_type": "stream",
          "name": "stdout",
          "text": [
            "[[-6.0000e-03  3.0590e+00  1.0070e+00]\n",
            " [-1.0000e-02  3.0550e+00  6.9900e-01]\n",
            " [-4.0000e-03  3.0650e+00  8.5800e-01]\n",
            " ...\n",
            " [ 1.3890e+00  2.0330e+00  1.4152e+01]\n",
            " [ 1.4050e+00  2.0570e+00  1.4083e+01]\n",
            " [ 1.4210e+00  2.0580e+00  1.4132e+01]]\n"
          ]
        }
      ]
    },
    {
      "cell_type": "code",
      "source": [
        "def create_sequences(data, time_steps, step_size):\n",
        "    X = []\n",
        "    y = []\n",
        "\n",
        "    for i in range(0, len(data) - time_steps, step_size):\n",
        "        X.append(data[i:(i + time_steps), :-1])\n",
        "        y.append(data[i + time_steps, -1])\n",
        "\n",
        "    return np.array(X), np.array(y)\n",
        "\n",
        "\"\"\"gap_starts = [58000,100500,142680,190000]  ## are gap starting indices..\n",
        "gap_ends = [60000,106600,146000,194300]  \"\"\"  ## are gap ending indices..\n",
        "time_steps_list_to_test = [60] #,5,0,20,30,35,40,50,55,60,65]   ## All < 65\n",
        "step_size = 30  # 30ms step size for overlapping #50% of the time-step..\n",
        "\n",
        "all_X = []\n",
        "all_y = []\n",
        "data_length = len(data_)\n",
        "\n",
        "start_index = 0\n",
        "end_index = data_length\n",
        "if end_index > start_index:\n",
        "    data_segment = dn[start_index:end_index]\n",
        "    for ts in time_steps_list_to_test:\n",
        "        if len(data_segment) > ts:\n",
        "            X_seg, y_seg = create_sequences(data_segment, ts, step_size)\n",
        "            all_X.append(X_seg)\n",
        "            all_y.append(y_seg)\n",
        "\n",
        "\n",
        "\"\"\"\n",
        "##these all are required only if u apply to gaps##\n",
        "\n",
        "print(len(all_X[0][1][1])) # 2 ie, the no of predictors are 2..\n",
        "print(len(all_X[0][1])) #30 ie the no of time_size=30..\"\"\"\n",
        "\"\"\"\n",
        "# Process data between the gaps\n",
        "for i in range(len(gap_starts) - 1):\n",
        "    start_index = gap_ends[i]\n",
        "    end_index = gap_starts[i + 1]\n",
        "    if end_index > start_index:\n",
        "        data_segment = dn[start_index:end_index]\n",
        "        for ts in time_steps_list_to_test:\n",
        "            if len(data_segment) > ts:\n",
        "               X_seg, y_seg = create_sequences(data_segment, ts)\n",
        "               all_X.append(X_seg)\n",
        "               all_y.append(y_seg)\n",
        "\n",
        "# Process data after the last gap\n",
        "start_index = gap_ends[-1]\n",
        "end_index = data_length\n",
        "if end_index > start_index:\n",
        "    data_segment = dn[start_index:end_index]\n",
        "    for ts in time_steps_list_to_test:\n",
        "            if len(data_segment) > ts:\n",
        "               X_seg, y_seg = create_sequences(data_segment, ts)\n",
        "               all_X.append(X_seg)\n",
        "               all_y.append(y_seg)\"\"\"\n",
        "\n",
        "\n",
        "for i, x in enumerate(all_X):\n",
        "    print(f\"all_X[{i}] shape: {x.shape}\")\n",
        "for i, y in enumerate(all_y):\n",
        "    print(f\"all_y[{i}] shape: {y.shape}\")\n",
        "\n",
        "    \"\"\"all_X[0] shape: (57970, 30, 2)  #a 3d array is there which contains, 57970 sequences which are each (30,2) 2-d array sized  ...\n",
        "all_X[1] shape: (40470, 30, 2)\n",
        "all_X[2] shape: (36050, 30, 2)\n",
        "all_X[3] shape: (43970, 30, 2)\n",
        "all_X[4] shape: (22999, 30, 2)\"\"\"\n",
        "\n",
        "all_X = np.concatenate(all_X, axis=0)\n",
        "all_y = np.concatenate(all_y, axis=0)  #not np.array() because,the axis 0 can be misconfusing ,, but  providing axis=0 we concate through axis=1 and axis=2,, ie the window_size and the no of features respectively..\n",
        "\n"
      ],
      "metadata": {
        "colab": {
          "base_uri": "https://localhost:8080/"
        },
        "id": "eKrLPs00XVDu",
        "outputId": "988cfbed-76bf-4e51-bfba-dd4f322b57cd"
      },
      "execution_count": 20,
      "outputs": [
        {
          "output_type": "stream",
          "name": "stdout",
          "text": [
            "all_X[0] shape: (7243, 60, 2)\n",
            "all_y[0] shape: (7243,)\n"
          ]
        }
      ]
    },
    {
      "cell_type": "code",
      "source": [
        "\"\"\"data_.head()\"\"\""
      ],
      "metadata": {
        "id": "JLX6l6TaHz5O",
        "colab": {
          "base_uri": "https://localhost:8080/"
        },
        "outputId": "db2db412-0761-44c4-efc1-fe6feeac34f9"
      },
      "execution_count": null,
      "outputs": [
        {
          "output_type": "execute_result",
          "data": {
            "text/plain": [
              "(217329, 3)"
            ]
          },
          "metadata": {},
          "execution_count": 32
        }
      ]
    },
    {
      "cell_type": "code",
      "source": [
        "\n",
        "X=all_X\n",
        "Y=all_y\n",
        "#shuffling as a whole..\n",
        "indices=np.random.permutation(len(X))       # indices=array([4052, 109, 7011, 3230, 582, ..., 693])\n",
        "X=X[indices]\n",
        "Y=Y[indices]\n",
        "\"\"\"\n",
        "X=all_X;\n",
        "Y=all_y;\n",
        "indices=np.random.permutation(len(X))\n",
        "X=X[indices]\n",
        "\"\"\""
      ],
      "metadata": {
        "id": "q_7woFeUtfwO",
        "colab": {
          "base_uri": "https://localhost:8080/",
          "height": 35
        },
        "outputId": "44576e5f-1ad1-40c1-d791-b3e0403d363e"
      },
      "execution_count": 21,
      "outputs": [
        {
          "output_type": "execute_result",
          "data": {
            "text/plain": [
              "'\\nX=all_X;\\nY=all_y;\\nindices=np.random.permutation(len(X))\\nX=X[indices]\\n'"
            ],
            "application/vnd.google.colaboratory.intrinsic+json": {
              "type": "string"
            }
          },
          "metadata": {},
          "execution_count": 21
        }
      ]
    },
    {
      "cell_type": "code",
      "source": [
        "#train-test and unseen data  split..\n",
        "from sklearn.model_selection import train_test_split\n",
        "\n",
        "X_temp,X_unseen,y_temp,y_unseen=train_test_split(X,Y,test_size=0.2,random_state=42,shuffle=False) # here shuffle is false must be false because, lstm is time-series analysis and order of the dataset is very important..."
      ],
      "metadata": {
        "id": "gPJp8sOBLzcn"
      },
      "execution_count": 22,
      "outputs": []
    },
    {
      "cell_type": "code",
      "source": [
        "#train-test split..\n",
        "from sklearn.model_selection import train_test_split\n",
        "\n",
        "X_train,X_test,y_train,y_test=train_test_split(X_temp,y_temp,test_size=0.2,random_state=42,shuffle=False) # here shuffle is false must be false because, lstm is time-series analysis and order of the dataset is very important..."
      ],
      "metadata": {
        "id": "3YViYXoE5boK"
      },
      "execution_count": 23,
      "outputs": []
    },
    {
      "cell_type": "code",
      "source": [
        "from tensorflow.keras import backend as K\n",
        "\n",
        "def root_mean_squared_error(y_true, y_pred):\n",
        "    return K.sqrt(K.mean(K.square(y_pred - y_true)))\n"
      ],
      "metadata": {
        "id": "WA43eZJy7i1s"
      },
      "execution_count": null,
      "outputs": []
    },
    {
      "cell_type": "code",
      "source": [
        "#Build LSTM Model\n",
        "from tensorflow.keras.models import Sequential\n",
        "from tensorflow.keras.layers import LSTM,Dense\n",
        "model=Sequential()\n",
        "model.add(LSTM(units=64,input_shape=(X_train.shape[1],X_train.shape[2])))   # this X_train.shape gives an array like[54750,30,2] where 54750 is no of samples and 30 is the time-size or window-size and 2 is the no of features..\n",
        "model.add(Dense(units=1))  # actually using model.add(Dense(1, activation='linear')),,, as this is self implied for regression...\n",
        "\n",
        "model.compile(optimizer=\"adam\",loss=root_mean_squared_error)\n",
        "model.summary()"
      ],
      "metadata": {
        "colab": {
          "base_uri": "https://localhost:8080/",
          "height": 249
        },
        "id": "wOgIjk3m53WQ",
        "outputId": "c486fbb6-9cfd-4154-b6b1-dd6e6d2851f2"
      },
      "execution_count": null,
      "outputs": [
        {
          "output_type": "stream",
          "name": "stderr",
          "text": [
            "/usr/local/lib/python3.11/dist-packages/keras/src/layers/rnn/rnn.py:200: UserWarning: Do not pass an `input_shape`/`input_dim` argument to a layer. When using Sequential models, prefer using an `Input(shape)` object as the first layer in the model instead.\n",
            "  super().__init__(**kwargs)\n"
          ]
        },
        {
          "output_type": "display_data",
          "data": {
            "text/plain": [
              "\u001b[1mModel: \"sequential\"\u001b[0m\n"
            ],
            "text/html": [
              "<pre style=\"white-space:pre;overflow-x:auto;line-height:normal;font-family:Menlo,'DejaVu Sans Mono',consolas,'Courier New',monospace\"><span style=\"font-weight: bold\">Model: \"sequential\"</span>\n",
              "</pre>\n"
            ]
          },
          "metadata": {}
        },
        {
          "output_type": "display_data",
          "data": {
            "text/plain": [
              "┏━━━━━━━━━━━━━━━━━━━━━━━━━━━━━━━━━┳━━━━━━━━━━━━━━━━━━━━━━━━┳━━━━━━━━━━━━━━━┓\n",
              "┃\u001b[1m \u001b[0m\u001b[1mLayer (type)                   \u001b[0m\u001b[1m \u001b[0m┃\u001b[1m \u001b[0m\u001b[1mOutput Shape          \u001b[0m\u001b[1m \u001b[0m┃\u001b[1m \u001b[0m\u001b[1m      Param #\u001b[0m\u001b[1m \u001b[0m┃\n",
              "┡━━━━━━━━━━━━━━━━━━━━━━━━━━━━━━━━━╇━━━━━━━━━━━━━━━━━━━━━━━━╇━━━━━━━━━━━━━━━┩\n",
              "│ lstm (\u001b[38;5;33mLSTM\u001b[0m)                     │ (\u001b[38;5;45mNone\u001b[0m, \u001b[38;5;34m64\u001b[0m)             │        \u001b[38;5;34m17,152\u001b[0m │\n",
              "├─────────────────────────────────┼────────────────────────┼───────────────┤\n",
              "│ dense (\u001b[38;5;33mDense\u001b[0m)                   │ (\u001b[38;5;45mNone\u001b[0m, \u001b[38;5;34m1\u001b[0m)              │            \u001b[38;5;34m65\u001b[0m │\n",
              "└─────────────────────────────────┴────────────────────────┴───────────────┘\n"
            ],
            "text/html": [
              "<pre style=\"white-space:pre;overflow-x:auto;line-height:normal;font-family:Menlo,'DejaVu Sans Mono',consolas,'Courier New',monospace\">┏━━━━━━━━━━━━━━━━━━━━━━━━━━━━━━━━━┳━━━━━━━━━━━━━━━━━━━━━━━━┳━━━━━━━━━━━━━━━┓\n",
              "┃<span style=\"font-weight: bold\"> Layer (type)                    </span>┃<span style=\"font-weight: bold\"> Output Shape           </span>┃<span style=\"font-weight: bold\">       Param # </span>┃\n",
              "┡━━━━━━━━━━━━━━━━━━━━━━━━━━━━━━━━━╇━━━━━━━━━━━━━━━━━━━━━━━━╇━━━━━━━━━━━━━━━┩\n",
              "│ lstm (<span style=\"color: #0087ff; text-decoration-color: #0087ff\">LSTM</span>)                     │ (<span style=\"color: #00d7ff; text-decoration-color: #00d7ff\">None</span>, <span style=\"color: #00af00; text-decoration-color: #00af00\">64</span>)             │        <span style=\"color: #00af00; text-decoration-color: #00af00\">17,152</span> │\n",
              "├─────────────────────────────────┼────────────────────────┼───────────────┤\n",
              "│ dense (<span style=\"color: #0087ff; text-decoration-color: #0087ff\">Dense</span>)                   │ (<span style=\"color: #00d7ff; text-decoration-color: #00d7ff\">None</span>, <span style=\"color: #00af00; text-decoration-color: #00af00\">1</span>)              │            <span style=\"color: #00af00; text-decoration-color: #00af00\">65</span> │\n",
              "└─────────────────────────────────┴────────────────────────┴───────────────┘\n",
              "</pre>\n"
            ]
          },
          "metadata": {}
        },
        {
          "output_type": "display_data",
          "data": {
            "text/plain": [
              "\u001b[1m Total params: \u001b[0m\u001b[38;5;34m17,217\u001b[0m (67.25 KB)\n"
            ],
            "text/html": [
              "<pre style=\"white-space:pre;overflow-x:auto;line-height:normal;font-family:Menlo,'DejaVu Sans Mono',consolas,'Courier New',monospace\"><span style=\"font-weight: bold\"> Total params: </span><span style=\"color: #00af00; text-decoration-color: #00af00\">17,217</span> (67.25 KB)\n",
              "</pre>\n"
            ]
          },
          "metadata": {}
        },
        {
          "output_type": "display_data",
          "data": {
            "text/plain": [
              "\u001b[1m Trainable params: \u001b[0m\u001b[38;5;34m17,217\u001b[0m (67.25 KB)\n"
            ],
            "text/html": [
              "<pre style=\"white-space:pre;overflow-x:auto;line-height:normal;font-family:Menlo,'DejaVu Sans Mono',consolas,'Courier New',monospace\"><span style=\"font-weight: bold\"> Trainable params: </span><span style=\"color: #00af00; text-decoration-color: #00af00\">17,217</span> (67.25 KB)\n",
              "</pre>\n"
            ]
          },
          "metadata": {}
        },
        {
          "output_type": "display_data",
          "data": {
            "text/plain": [
              "\u001b[1m Non-trainable params: \u001b[0m\u001b[38;5;34m0\u001b[0m (0.00 B)\n"
            ],
            "text/html": [
              "<pre style=\"white-space:pre;overflow-x:auto;line-height:normal;font-family:Menlo,'DejaVu Sans Mono',consolas,'Courier New',monospace\"><span style=\"font-weight: bold\"> Non-trainable params: </span><span style=\"color: #00af00; text-decoration-color: #00af00\">0</span> (0.00 B)\n",
              "</pre>\n"
            ]
          },
          "metadata": {}
        }
      ]
    },
    {
      "cell_type": "code",
      "source": [
        "##early stoppings..###\n",
        "\n",
        "import tensorflow as tf\n",
        "early_stopping=tf.keras.callbacks.EarlyStopping(\n",
        "    monitor=\"val_loss\",\n",
        "    min_delta=0.0001,\n",
        "    patience=20,\n",
        "    verbose=1,\n",
        "    mode=\"auto\",\n",
        "    baseline=None,\n",
        "    restore_best_weights=False,\n",
        "    start_from_epoch=0,\n",
        ")"
      ],
      "metadata": {
        "id": "6rd1LjaJStnT"
      },
      "execution_count": null,
      "outputs": []
    },
    {
      "cell_type": "code",
      "source": [
        "# train the model..\n",
        "history=model.fit(\n",
        "    X_train, y_train,validation_data=(X_test,y_test),\n",
        "    epochs=40,\n",
        "    batch_size=4,\n",
        "    callbacks=early_stopping\n",
        ")"
      ],
      "metadata": {
        "colab": {
          "base_uri": "https://localhost:8080/"
        },
        "id": "o9KiHVJa7DAd",
        "outputId": "e75e28b3-eaf0-48ea-9931-0b0097632e3d",
        "collapsed": true
      },
      "execution_count": null,
      "outputs": [
        {
          "output_type": "stream",
          "name": "stdout",
          "text": [
            "Epoch 1/40\n",
            "\u001b[1m1159/1159\u001b[0m \u001b[32m━━━━━━━━━━━━━━━━━━━━\u001b[0m\u001b[37m\u001b[0m \u001b[1m25s\u001b[0m 21ms/step - loss: 0.1496 - val_loss: 0.1501\n",
            "Epoch 2/40\n",
            "\u001b[1m1159/1159\u001b[0m \u001b[32m━━━━━━━━━━━━━━━━━━━━\u001b[0m\u001b[37m\u001b[0m \u001b[1m28s\u001b[0m 24ms/step - loss: 0.1471 - val_loss: 0.1664\n",
            "Epoch 3/40\n",
            "\u001b[1m1159/1159\u001b[0m \u001b[32m━━━━━━━━━━━━━━━━━━━━\u001b[0m\u001b[37m\u001b[0m \u001b[1m28s\u001b[0m 24ms/step - loss: 0.1494 - val_loss: 0.1464\n",
            "Epoch 4/40\n",
            "\u001b[1m1159/1159\u001b[0m \u001b[32m━━━━━━━━━━━━━━━━━━━━\u001b[0m\u001b[37m\u001b[0m \u001b[1m25s\u001b[0m 22ms/step - loss: 0.1484 - val_loss: 0.1447\n",
            "Epoch 5/40\n",
            "\u001b[1m1159/1159\u001b[0m \u001b[32m━━━━━━━━━━━━━━━━━━━━\u001b[0m\u001b[37m\u001b[0m \u001b[1m42s\u001b[0m 23ms/step - loss: 0.1477 - val_loss: 0.1513\n",
            "Epoch 6/40\n",
            "\u001b[1m1159/1159\u001b[0m \u001b[32m━━━━━━━━━━━━━━━━━━━━\u001b[0m\u001b[37m\u001b[0m \u001b[1m26s\u001b[0m 22ms/step - loss: 0.1462 - val_loss: 0.1427\n",
            "Epoch 7/40\n",
            "\u001b[1m1159/1159\u001b[0m \u001b[32m━━━━━━━━━━━━━━━━━━━━\u001b[0m\u001b[37m\u001b[0m \u001b[1m39s\u001b[0m 21ms/step - loss: 0.1493 - val_loss: 0.1518\n",
            "Epoch 8/40\n",
            "\u001b[1m1159/1159\u001b[0m \u001b[32m━━━━━━━━━━━━━━━━━━━━\u001b[0m\u001b[37m\u001b[0m \u001b[1m25s\u001b[0m 21ms/step - loss: 0.1383 - val_loss: 0.1534\n",
            "Epoch 9/40\n",
            "\u001b[1m1159/1159\u001b[0m \u001b[32m━━━━━━━━━━━━━━━━━━━━\u001b[0m\u001b[37m\u001b[0m \u001b[1m42s\u001b[0m 22ms/step - loss: 0.1447 - val_loss: 0.1421\n",
            "Epoch 10/40\n",
            "\u001b[1m1159/1159\u001b[0m \u001b[32m━━━━━━━━━━━━━━━━━━━━\u001b[0m\u001b[37m\u001b[0m \u001b[1m40s\u001b[0m 21ms/step - loss: 0.1414 - val_loss: 0.1424\n",
            "Epoch 11/40\n",
            "\u001b[1m1159/1159\u001b[0m \u001b[32m━━━━━━━━━━━━━━━━━━━━\u001b[0m\u001b[37m\u001b[0m \u001b[1m40s\u001b[0m 21ms/step - loss: 0.1392 - val_loss: 0.1389\n",
            "Epoch 12/40\n",
            "\u001b[1m1159/1159\u001b[0m \u001b[32m━━━━━━━━━━━━━━━━━━━━\u001b[0m\u001b[37m\u001b[0m \u001b[1m42s\u001b[0m 22ms/step - loss: 0.1426 - val_loss: 0.1494\n",
            "Epoch 13/40\n",
            "\u001b[1m1159/1159\u001b[0m \u001b[32m━━━━━━━━━━━━━━━━━━━━\u001b[0m\u001b[37m\u001b[0m \u001b[1m41s\u001b[0m 22ms/step - loss: 0.1423 - val_loss: 0.1438\n",
            "Epoch 14/40\n",
            "\u001b[1m1159/1159\u001b[0m \u001b[32m━━━━━━━━━━━━━━━━━━━━\u001b[0m\u001b[37m\u001b[0m \u001b[1m39s\u001b[0m 20ms/step - loss: 0.1410 - val_loss: 0.1384\n",
            "Epoch 15/40\n",
            "\u001b[1m1159/1159\u001b[0m \u001b[32m━━━━━━━━━━━━━━━━━━━━\u001b[0m\u001b[37m\u001b[0m \u001b[1m43s\u001b[0m 22ms/step - loss: 0.1402 - val_loss: 0.1390\n",
            "Epoch 16/40\n",
            "\u001b[1m1159/1159\u001b[0m \u001b[32m━━━━━━━━━━━━━━━━━━━━\u001b[0m\u001b[37m\u001b[0m \u001b[1m42s\u001b[0m 23ms/step - loss: 0.1424 - val_loss: 0.1411\n",
            "Epoch 17/40\n",
            "\u001b[1m1159/1159\u001b[0m \u001b[32m━━━━━━━━━━━━━━━━━━━━\u001b[0m\u001b[37m\u001b[0m \u001b[1m40s\u001b[0m 22ms/step - loss: 0.1424 - val_loss: 0.1387\n",
            "Epoch 18/40\n",
            "\u001b[1m1159/1159\u001b[0m \u001b[32m━━━━━━━━━━━━━━━━━━━━\u001b[0m\u001b[37m\u001b[0m \u001b[1m41s\u001b[0m 22ms/step - loss: 0.1370 - val_loss: 0.1518\n",
            "Epoch 19/40\n",
            "\u001b[1m1159/1159\u001b[0m \u001b[32m━━━━━━━━━━━━━━━━━━━━\u001b[0m\u001b[37m\u001b[0m \u001b[1m26s\u001b[0m 23ms/step - loss: 0.1376 - val_loss: 0.1325\n",
            "Epoch 20/40\n",
            "\u001b[1m1159/1159\u001b[0m \u001b[32m━━━━━━━━━━━━━━━━━━━━\u001b[0m\u001b[37m\u001b[0m \u001b[1m26s\u001b[0m 23ms/step - loss: 0.1326 - val_loss: 0.1356\n",
            "Epoch 21/40\n",
            "\u001b[1m1159/1159\u001b[0m \u001b[32m━━━━━━━━━━━━━━━━━━━━\u001b[0m\u001b[37m\u001b[0m \u001b[1m41s\u001b[0m 22ms/step - loss: 0.1333 - val_loss: 0.1393\n",
            "Epoch 22/40\n",
            "\u001b[1m1159/1159\u001b[0m \u001b[32m━━━━━━━━━━━━━━━━━━━━\u001b[0m\u001b[37m\u001b[0m \u001b[1m40s\u001b[0m 22ms/step - loss: 0.1375 - val_loss: 0.1428\n",
            "Epoch 23/40\n",
            "\u001b[1m1159/1159\u001b[0m \u001b[32m━━━━━━━━━━━━━━━━━━━━\u001b[0m\u001b[37m\u001b[0m \u001b[1m42s\u001b[0m 23ms/step - loss: 0.1347 - val_loss: 0.1362\n",
            "Epoch 24/40\n",
            "\u001b[1m1159/1159\u001b[0m \u001b[32m━━━━━━━━━━━━━━━━━━━━\u001b[0m\u001b[37m\u001b[0m \u001b[1m41s\u001b[0m 22ms/step - loss: 0.1366 - val_loss: 0.1339\n",
            "Epoch 25/40\n",
            "\u001b[1m1159/1159\u001b[0m \u001b[32m━━━━━━━━━━━━━━━━━━━━\u001b[0m\u001b[37m\u001b[0m \u001b[1m41s\u001b[0m 23ms/step - loss: 0.1355 - val_loss: 0.1342\n",
            "Epoch 26/40\n",
            "\u001b[1m1159/1159\u001b[0m \u001b[32m━━━━━━━━━━━━━━━━━━━━\u001b[0m\u001b[37m\u001b[0m \u001b[1m40s\u001b[0m 22ms/step - loss: 0.1322 - val_loss: 0.1314\n",
            "Epoch 27/40\n",
            "\u001b[1m1159/1159\u001b[0m \u001b[32m━━━━━━━━━━━━━━━━━━━━\u001b[0m\u001b[37m\u001b[0m \u001b[1m42s\u001b[0m 23ms/step - loss: 0.1354 - val_loss: 0.1304\n",
            "Epoch 28/40\n",
            "\u001b[1m1159/1159\u001b[0m \u001b[32m━━━━━━━━━━━━━━━━━━━━\u001b[0m\u001b[37m\u001b[0m \u001b[1m40s\u001b[0m 22ms/step - loss: 0.1326 - val_loss: 0.1327\n",
            "Epoch 29/40\n",
            "\u001b[1m1159/1159\u001b[0m \u001b[32m━━━━━━━━━━━━━━━━━━━━\u001b[0m\u001b[37m\u001b[0m \u001b[1m26s\u001b[0m 22ms/step - loss: 0.1318 - val_loss: 0.1278\n",
            "Epoch 30/40\n",
            "\u001b[1m1159/1159\u001b[0m \u001b[32m━━━━━━━━━━━━━━━━━━━━\u001b[0m\u001b[37m\u001b[0m \u001b[1m41s\u001b[0m 22ms/step - loss: 0.1358 - val_loss: 0.1274\n",
            "Epoch 31/40\n",
            "\u001b[1m1159/1159\u001b[0m \u001b[32m━━━━━━━━━━━━━━━━━━━━\u001b[0m\u001b[37m\u001b[0m \u001b[1m29s\u001b[0m 25ms/step - loss: 0.1343 - val_loss: 0.1306\n",
            "Epoch 32/40\n",
            "\u001b[1m1159/1159\u001b[0m \u001b[32m━━━━━━━━━━━━━━━━━━━━\u001b[0m\u001b[37m\u001b[0m \u001b[1m37s\u001b[0m 22ms/step - loss: 0.1352 - val_loss: 0.1286\n",
            "Epoch 33/40\n",
            "\u001b[1m1159/1159\u001b[0m \u001b[32m━━━━━━━━━━━━━━━━━━━━\u001b[0m\u001b[37m\u001b[0m \u001b[1m26s\u001b[0m 22ms/step - loss: 0.1320 - val_loss: 0.1285\n",
            "Epoch 34/40\n",
            "\u001b[1m1159/1159\u001b[0m \u001b[32m━━━━━━━━━━━━━━━━━━━━\u001b[0m\u001b[37m\u001b[0m \u001b[1m41s\u001b[0m 22ms/step - loss: 0.1295 - val_loss: 0.1476\n",
            "Epoch 35/40\n",
            "\u001b[1m1159/1159\u001b[0m \u001b[32m━━━━━━━━━━━━━━━━━━━━\u001b[0m\u001b[37m\u001b[0m \u001b[1m32s\u001b[0m 28ms/step - loss: 0.1279 - val_loss: 0.1307\n",
            "Epoch 36/40\n",
            "\u001b[1m1159/1159\u001b[0m \u001b[32m━━━━━━━━━━━━━━━━━━━━\u001b[0m\u001b[37m\u001b[0m \u001b[1m35s\u001b[0m 23ms/step - loss: 0.1282 - val_loss: 0.1397\n",
            "Epoch 37/40\n",
            "\u001b[1m1159/1159\u001b[0m \u001b[32m━━━━━━━━━━━━━━━━━━━━\u001b[0m\u001b[37m\u001b[0m \u001b[1m30s\u001b[0m 25ms/step - loss: 0.1313 - val_loss: 0.1326\n",
            "Epoch 38/40\n",
            "\u001b[1m1159/1159\u001b[0m \u001b[32m━━━━━━━━━━━━━━━━━━━━\u001b[0m\u001b[37m\u001b[0m \u001b[1m44s\u001b[0m 28ms/step - loss: 0.1310 - val_loss: 0.1289\n",
            "Epoch 39/40\n",
            "\u001b[1m1159/1159\u001b[0m \u001b[32m━━━━━━━━━━━━━━━━━━━━\u001b[0m\u001b[37m\u001b[0m \u001b[1m40s\u001b[0m 27ms/step - loss: 0.1254 - val_loss: 0.1496\n",
            "Epoch 40/40\n",
            "\u001b[1m1159/1159\u001b[0m \u001b[32m━━━━━━━━━━━━━━━━━━━━\u001b[0m\u001b[37m\u001b[0m \u001b[1m39s\u001b[0m 25ms/step - loss: 0.1313 - val_loss: 0.1242\n"
          ]
        }
      ]
    },
    {
      "cell_type": "code",
      "source": [
        "\"\"\"# min-max_scalling...\n",
        "\n",
        "for i in range (0,3):\n",
        "  c_column = data_.iloc[:, i].copy()\n",
        "  min_c=c_column.min()\n",
        "  max_c=c_column.max()\n",
        "\n",
        "  if max_c-min_c==0:\n",
        "     data_.iloc[:,i]=0.0\n",
        "  else:\n",
        "     data_.iloc[:,i]=(c_column-min_c)/(max_c-min_c)  # min-max scalling\n",
        "data_.head()\"\"\""
      ],
      "metadata": {
        "id": "Lf8NXkB0Kj9B"
      },
      "execution_count": null,
      "outputs": []
    },
    {
      "cell_type": "code",
      "source": [
        "#unscalling of the rmse..\n",
        "\n",
        "loss=model.evaluate(X_test,y_test,batch_size=1)     # loss on unseen data .....  # by default the batch_size on unseen data is 32;\n",
        "min_val=data[\"0.2\"].min()\n",
        "max_val=data[\"0.2\"].max()\n",
        "\n",
        "if(max_val-min_val==0):\n",
        "  loss_unscaled=0.0;\n",
        "else:\n",
        "\n",
        "    loss_unscaled = (loss) * (max_val - min_val)\n",
        "\n",
        "print(min_val,max_val)\n",
        "\n",
        "\n",
        "\n"
      ],
      "metadata": {
        "colab": {
          "base_uri": "https://localhost:8080/"
        },
        "id": "m_JmdtUX7WrZ",
        "outputId": "5dfd4555-d35f-4e4a-eda3-c67f272f96a6"
      },
      "execution_count": null,
      "outputs": [
        {
          "output_type": "stream",
          "name": "stdout",
          "text": [
            "\u001b[1m1159/1159\u001b[0m \u001b[32m━━━━━━━━━━━━━━━━━━━━\u001b[0m\u001b[37m\u001b[0m \u001b[1m10s\u001b[0m 9ms/step - loss: 0.0968\n",
            "-0.762 28.172\n"
          ]
        }
      ]
    },
    {
      "cell_type": "code",
      "source": [],
      "metadata": {
        "id": "iLIjrGsPZZC-"
      },
      "execution_count": null,
      "outputs": []
    },
    {
      "cell_type": "code",
      "source": [
        "print(round(loss_unscaled,2))  #model’s average prediction error is ~3.49 units"
      ],
      "metadata": {
        "colab": {
          "base_uri": "https://localhost:8080/"
        },
        "id": "HWgqtLjPLgyY",
        "outputId": "a3bbeb73-1e1a-4cf2-de09-7ec0a11c31c7"
      },
      "execution_count": null,
      "outputs": [
        {
          "output_type": "stream",
          "name": "stdout",
          "text": [
            "2.78\n"
          ]
        }
      ]
    },
    {
      "cell_type": "code",
      "source": [
        "#relative rmse for finding whether the model is acceptable or not ..\n",
        "relative_rmse=loss_unscaled/(max_val-min_val)\n",
        "print(round(relative_rmse*100,2))\n",
        "#9-12.07% error is comming which is considered to be good until it is 15%..in real world scenario.."
      ],
      "metadata": {
        "colab": {
          "base_uri": "https://localhost:8080/"
        },
        "id": "nzttP6MWeHAy",
        "outputId": "35f2e53f-8d97-474a-b4e5-c150e40c85e0"
      },
      "execution_count": null,
      "outputs": [
        {
          "output_type": "stream",
          "name": "stdout",
          "text": [
            "9.6\n"
          ]
        }
      ]
    },
    {
      "cell_type": "markdown",
      "source": [
        " # unseen data losses calculation....changing the batch_size This only affects speed and memory usage, not the final output values.\n"
      ],
      "metadata": {
        "id": "6zKBLfTHkbMz"
      }
    },
    {
      "cell_type": "code",
      "source": [
        "y_pred=model.predict(X_unseen,batch_size=4)"
      ],
      "metadata": {
        "colab": {
          "base_uri": "https://localhost:8080/"
        },
        "id": "phEwoaBVkYT2",
        "outputId": "8034c424-dc97-45b4-c847-42255df2e436"
      },
      "execution_count": null,
      "outputs": [
        {
          "output_type": "stream",
          "name": "stdout",
          "text": [
            "\u001b[1m363/363\u001b[0m \u001b[32m━━━━━━━━━━━━━━━━━━━━\u001b[0m\u001b[37m\u001b[0m \u001b[1m2s\u001b[0m 6ms/step\n"
          ]
        }
      ]
    },
    {
      "cell_type": "code",
      "source": [
        "     # unseen data losses calculation....changing the batch_size This only affects speed and memory usage, not the final output values.\n",
        "\n",
        "# no accuarcy_score for regression\n",
        "import matplotlib.pyplot as plt\n",
        "plt.plot(y_unseen[:100], label='True')\n",
        "plt.plot(y_pred[:100],label=\"Predicted\")\n",
        "plt.xlabel(\"data_points\")\n",
        "plt.ylabel(\"results\")\n",
        "plt.legend()  # will show the label's defined for each\n",
        "plt.title(\"LSTM Predictions\")\n",
        "plt.show()\n",
        "\n"
      ],
      "metadata": {
        "colab": {
          "base_uri": "https://localhost:8080/",
          "height": 472
        },
        "id": "egTfEQy5_Kz-",
        "outputId": "9da0e433-5182-4ef1-b116-9ffb885afb32"
      },
      "execution_count": null,
      "outputs": [
        {
          "output_type": "display_data",
          "data": {
            "text/plain": [
              "<Figure size 640x480 with 1 Axes>"
            ],
            "image/png": "[encoded data removed]"
          },
          "metadata": {}
        }
      ]
    },
    {
      "cell_type": "code",
      "source": [
        "\"\"\"import matplotlib.pyplot as plt\n",
        "\n",
        "plt.plot(history.history[\"loss\"])\n",
        "plt.plot(history.history[\"val_loss\"])\n",
        "plt.title(\"model loss\")\n",
        "plt.ylabel(\"loss\")\n",
        "plt.xlabel(\"epoch\")\n",
        "plt.legend([\"train\",\"test\"],loc=\"upper right\")\n",
        "plt.show()\"\"\""
      ],
      "metadata": {
        "colab": {
          "base_uri": "https://localhost:8080/",
          "height": 70
        },
        "id": "D2juFjWN7pjl",
        "outputId": "64a99632-850f-46ab-a9af-a1ef35999433"
      },
      "execution_count": null,
      "outputs": [
        {
          "output_type": "execute_result",
          "data": {
            "text/plain": [
              "'import matplotlib.pyplot as plt\\n\\nplt.plot(history.history[\"loss\"])\\nplt.plot(history.history[\"val_loss\"])\\nplt.title(\"model loss\")\\nplt.ylabel(\"loss\")\\nplt.xlabel(\"epoch\")\\nplt.legend([\"train\",\"test\"],loc=\"upper right\")\\nplt.show()'"
            ],
            "application/vnd.google.colaboratory.intrinsic+json": {
              "type": "string"
            }
          },
          "metadata": {},
          "execution_count": 46
        }
      ]
    },
    {
      "cell_type": "code",
      "source": [
        "#upto 60 time-step is done and the loss is reduced ... loss is ..0.034822024405002594\n"
      ],
      "metadata": {
        "id": "KLq_cnbL-3CN"
      },
      "execution_count": null,
      "outputs": []
    },
    {
      "cell_type": "code",
      "source": [],
      "metadata": {
        "id": "tBRt5F8t-9nf"
      },
      "execution_count": null,
      "outputs": []
    }
  ]
}